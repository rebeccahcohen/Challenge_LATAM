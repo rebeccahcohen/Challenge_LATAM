{
 "cells": [
  {
   "cell_type": "code",
   "execution_count": 1,
   "metadata": {},
   "outputs": [],
   "source": [
    "import numpy as np\n",
    "import seaborn as sns\n",
    "import matplotlib.pyplot as plt\n",
    "from helper import *\n",
    "import matplotlib.dates as mdates\n",
    "import pandas as pd\n",
    "from sklearn import preprocessing"
   ]
  },
  {
   "cell_type": "code",
   "execution_count": 2,
   "metadata": {},
   "outputs": [],
   "source": [
    "def dropcol(df,cols):\n",
    "    return df.drop(cols, axis = 1, inplace = True)\n",
    "\n",
    "# we convert dates to datetime format\n",
    "def to_datetime(data, cols):\n",
    "    for col in cols:\n",
    "        data[col] = pd.to_datetime(data[col])\n",
    "\n",
    "def extract_hour(df):\n",
    "    df['HORA'] = df['Fecha-I'].hour \n",
    "\n",
    "def periodo_dia(df):\n",
    "    extract_hour(df)\n",
    "    if (df['HORA'] >= 5) and (df['HORA'] < 12):\n",
    "        return 'mañana'\n",
    "    elif  (df['HORA'] >=12) and  (df['HORA'] < 19):\n",
    "        return 'tarde'\n",
    "    elif  (df['HORA'] >=19) or  (df['HORA'] < 5):\n",
    "        return 'noche'\n",
    "\n",
    "def addcol_periodo_dia(df):\n",
    "    df['periodo_dia'] = df.apply(lambda x: periodo_dia(x), axis = 1)\n",
    "\n",
    "def analisis_atraso_por_col(df,col):\n",
    "    # % de vuelos atrasados por col\n",
    "    col_atraso = df.groupby([col])['atraso_15'].value_counts(normalize=True)\n",
    "    col_atraso = col_atraso.groupby([col]).apply(lambda x: x.iloc[0]).reset_index().sort_values(by = 'atraso_15')\n",
    "    col_atraso.rename(columns = {'atraso_15':'%_no_atrasados'}, inplace=True)\n",
    "    col_atraso['atraso_15']= 1-col_atraso['%_no_atrasados']\n",
    "    # % de vuelos operados por cada col \n",
    "    column_df = df[col].value_counts(normalize=True).reset_index()\n",
    "    column_df.rename(columns = {f'{col}':'%_de_total_vuelos'}, inplace=True)\n",
    "    column_df[f'%_atrasados_por_{col}'] = col_atraso['atraso_15']\n",
    "    atraso_total = (df.groupby(col)['atraso_15'].sum()/len(df[df['atraso_15']==1])).reset_index()\n",
    "    column_df = pd.merge(atraso_total, column_df, left_on = [col], right_on= ['index'], how = 'left')\n",
    "    column_df.rename(columns = {'atraso_15':'%_atrasados_de_total_atrasados'}, inplace=True)\n",
    "    column_df = column_df.sort_values('%_de_total_vuelos', ascending = False)\n",
    "    column_df['cumsum_total_vuelos'] = column_df['%_de_total_vuelos'].cumsum()\n",
    "    column_df['cumsum_atrasados'] = column_df['%_atrasados_de_total_atrasados'].cumsum()\n",
    "    dropcol(column_df,['index'])\n",
    "    return column_df \n",
    "\n",
    "def DummyCol(df,columnsToEncode):\n",
    "    df = pd.get_dummies(df,columns = columnsToEncode, drop_first=False)\n",
    "    return df"
   ]
  },
  {
   "cell_type": "code",
   "execution_count": 3,
   "metadata": {},
   "outputs": [],
   "source": [
    "#  C:\\Users\\rebeccah.cohen\\AppData\\Local\\Programs\\Python\\Python310\\python.exe -m pip install pandas\n",
    "data = pd.read_csv('Challenge_LATAM/dataset_SCL.csv', low_memory=False)"
   ]
  },
  {
   "cell_type": "code",
   "execution_count": 4,
   "metadata": {},
   "outputs": [
    {
     "name": "stdout",
     "output_type": "stream",
     "text": [
      "El dataset tiene 68206 vuelos\n"
     ]
    }
   ],
   "source": [
    "print(f'El dataset tiene {len(data)} vuelos') "
   ]
  },
  {
   "cell_type": "markdown",
   "metadata": {},
   "source": [
    "##### Data Cleaning & Adding Columns"
   ]
  },
  {
   "cell_type": "code",
   "execution_count": 5,
   "metadata": {},
   "outputs": [
    {
     "data": {
      "text/html": [
       "<div>\n",
       "<style scoped>\n",
       "    .dataframe tbody tr th:only-of-type {\n",
       "        vertical-align: middle;\n",
       "    }\n",
       "\n",
       "    .dataframe tbody tr th {\n",
       "        vertical-align: top;\n",
       "    }\n",
       "\n",
       "    .dataframe thead th {\n",
       "        text-align: right;\n",
       "    }\n",
       "</style>\n",
       "<table border=\"1\" class=\"dataframe\">\n",
       "  <thead>\n",
       "    <tr style=\"text-align: right;\">\n",
       "      <th></th>\n",
       "      <th>Fecha-I</th>\n",
       "      <th>Vlo-I</th>\n",
       "      <th>Ori-I</th>\n",
       "      <th>Des-I</th>\n",
       "      <th>Emp-I</th>\n",
       "      <th>Fecha-O</th>\n",
       "      <th>Vlo-O</th>\n",
       "      <th>Ori-O</th>\n",
       "      <th>Des-O</th>\n",
       "      <th>Emp-O</th>\n",
       "      <th>DIA</th>\n",
       "      <th>MES</th>\n",
       "      <th>AÑO</th>\n",
       "      <th>DIANOM</th>\n",
       "      <th>TIPOVUELO</th>\n",
       "      <th>OPERA</th>\n",
       "      <th>SIGLAORI</th>\n",
       "      <th>SIGLADES</th>\n",
       "    </tr>\n",
       "  </thead>\n",
       "  <tbody>\n",
       "    <tr>\n",
       "      <th>0</th>\n",
       "      <td>2017-01-01 23:30:00</td>\n",
       "      <td>226</td>\n",
       "      <td>SCEL</td>\n",
       "      <td>KMIA</td>\n",
       "      <td>AAL</td>\n",
       "      <td>2017-01-01 23:33:00</td>\n",
       "      <td>226</td>\n",
       "      <td>SCEL</td>\n",
       "      <td>KMIA</td>\n",
       "      <td>AAL</td>\n",
       "      <td>1</td>\n",
       "      <td>1</td>\n",
       "      <td>2017</td>\n",
       "      <td>Domingo</td>\n",
       "      <td>I</td>\n",
       "      <td>American Airlines</td>\n",
       "      <td>Santiago</td>\n",
       "      <td>Miami</td>\n",
       "    </tr>\n",
       "    <tr>\n",
       "      <th>1</th>\n",
       "      <td>2017-01-02 23:30:00</td>\n",
       "      <td>226</td>\n",
       "      <td>SCEL</td>\n",
       "      <td>KMIA</td>\n",
       "      <td>AAL</td>\n",
       "      <td>2017-01-02 23:39:00</td>\n",
       "      <td>226</td>\n",
       "      <td>SCEL</td>\n",
       "      <td>KMIA</td>\n",
       "      <td>AAL</td>\n",
       "      <td>2</td>\n",
       "      <td>1</td>\n",
       "      <td>2017</td>\n",
       "      <td>Lunes</td>\n",
       "      <td>I</td>\n",
       "      <td>American Airlines</td>\n",
       "      <td>Santiago</td>\n",
       "      <td>Miami</td>\n",
       "    </tr>\n",
       "  </tbody>\n",
       "</table>\n",
       "</div>"
      ],
      "text/plain": [
       "               Fecha-I Vlo-I Ori-I Des-I Emp-I              Fecha-O Vlo-O  \\\n",
       "0  2017-01-01 23:30:00   226  SCEL  KMIA   AAL  2017-01-01 23:33:00   226   \n",
       "1  2017-01-02 23:30:00   226  SCEL  KMIA   AAL  2017-01-02 23:39:00   226   \n",
       "\n",
       "  Ori-O Des-O Emp-O  DIA  MES   AÑO   DIANOM TIPOVUELO              OPERA  \\\n",
       "0  SCEL  KMIA   AAL    1    1  2017  Domingo         I  American Airlines   \n",
       "1  SCEL  KMIA   AAL    2    1  2017    Lunes         I  American Airlines   \n",
       "\n",
       "   SIGLAORI SIGLADES  \n",
       "0  Santiago    Miami  \n",
       "1  Santiago    Miami  "
      ]
     },
     "execution_count": 5,
     "metadata": {},
     "output_type": "execute_result"
    }
   ],
   "source": [
    "data.head(2)"
   ]
  },
  {
   "cell_type": "code",
   "execution_count": 6,
   "metadata": {},
   "outputs": [
    {
     "name": "stdout",
     "output_type": "stream",
     "text": [
      "<class 'pandas.core.frame.DataFrame'>\n",
      "RangeIndex: 68206 entries, 0 to 68205\n",
      "Data columns (total 18 columns):\n",
      " #   Column     Non-Null Count  Dtype \n",
      "---  ------     --------------  ----- \n",
      " 0   Fecha-I    68206 non-null  object\n",
      " 1   Vlo-I      68206 non-null  object\n",
      " 2   Ori-I      68206 non-null  object\n",
      " 3   Des-I      68206 non-null  object\n",
      " 4   Emp-I      68206 non-null  object\n",
      " 5   Fecha-O    68206 non-null  object\n",
      " 6   Vlo-O      68205 non-null  object\n",
      " 7   Ori-O      68206 non-null  object\n",
      " 8   Des-O      68206 non-null  object\n",
      " 9   Emp-O      68206 non-null  object\n",
      " 10  DIA        68206 non-null  int64 \n",
      " 11  MES        68206 non-null  int64 \n",
      " 12  AÑO        68206 non-null  int64 \n",
      " 13  DIANOM     68206 non-null  object\n",
      " 14  TIPOVUELO  68206 non-null  object\n",
      " 15  OPERA      68206 non-null  object\n",
      " 16  SIGLAORI   68206 non-null  object\n",
      " 17  SIGLADES   68206 non-null  object\n",
      "dtypes: int64(3), object(15)\n",
      "memory usage: 9.4+ MB\n"
     ]
    }
   ],
   "source": [
    "data.info()"
   ]
  },
  {
   "cell_type": "code",
   "execution_count": 7,
   "metadata": {},
   "outputs": [],
   "source": [
    "# Pasamos a datetime las fechas\n",
    "datecols = ['Fecha-O', 'Fecha-I']\n",
    "to_datetime(data, datecols)"
   ]
  },
  {
   "cell_type": "code",
   "execution_count": 8,
   "metadata": {},
   "outputs": [],
   "source": [
    "# crear las nuevas columnas \n",
    "df = data.copy()\n",
    "df['dif_min'] = (df['Fecha-O']-df['Fecha-I']).dt.total_seconds()/60\n",
    "df['atraso_15'] = np.where(df['dif_min'] > 15, 1, 0)\n",
    "high_season = df.loc[((df['Fecha-I'] >= \"2017-12-15\") & (df['Fecha-I'] < '2018-03-04')) |\n",
    "                     ((df['Fecha-I'] >= \"2017-07-15\") & (df['Fecha-I'] < '2017-08-01')) |\n",
    "                     ((df['Fecha-I'] >= \"2017-09-11\") & (df['Fecha-I'] < '2018-10-01'))]\n",
    "df['temporada_alta'] = df['Fecha-I'].isin(high_season['Fecha-I']).astype(int)\n",
    "addcol_periodo_dia(df)"
   ]
  },
  {
   "cell_type": "code",
   "execution_count": 9,
   "metadata": {},
   "outputs": [],
   "source": [
    "# guardar df como synthetic_features.csv\n",
    "df.to_csv(\"Challenge_LATAM/synthetic_features.csv\")"
   ]
  },
  {
   "cell_type": "markdown",
   "metadata": {},
   "source": [
    "Hacemos drop a las columnas `Ori-I`, `Ori-O` y `SIGLAORI` ya que no tienen valores distintos.\n",
    "Eliminamos también la columna `AÑO` ya que tenemos solamente 2 valores del año 2018. El resto de los valores son todos del año 2017."
   ]
  },
  {
   "cell_type": "code",
   "execution_count": 10,
   "metadata": {},
   "outputs": [
    {
     "name": "stdout",
     "output_type": "stream",
     "text": [
      "SCEL    68206\n",
      "Name: Ori-I, dtype: int64\n",
      "SCEL    68206\n",
      "Name: Ori-O, dtype: int64\n",
      "Santiago    68206\n",
      "Name: SIGLAORI, dtype: int64\n",
      "2017    68204\n",
      "2018        2\n",
      "Name: AÑO, dtype: int64\n"
     ]
    }
   ],
   "source": [
    "print(df['Ori-I'].value_counts())\n",
    "print(df['Ori-O'].value_counts())\n",
    "print(df['SIGLAORI'].value_counts())\n",
    "print(df['AÑO'].value_counts())\n"
   ]
  },
  {
   "cell_type": "code",
   "execution_count": 11,
   "metadata": {},
   "outputs": [],
   "source": [
    "dropcol(df,['Ori-I', 'Ori-O', 'SIGLAORI', 'AÑO'])"
   ]
  },
  {
   "cell_type": "code",
   "execution_count": 12,
   "metadata": {},
   "outputs": [],
   "source": [
    "datecols = ['Fecha-O', 'Fecha-I']\n",
    "to_datetime(df, datecols)"
   ]
  },
  {
   "cell_type": "markdown",
   "metadata": {},
   "source": [
    "Hacemos drop a las columna referente a las Fechas ya que hemos sacado la información relevante de ellas. "
   ]
  },
  {
   "cell_type": "code",
   "execution_count": 13,
   "metadata": {},
   "outputs": [],
   "source": [
    "dropcol(df, ['Fecha-I', 'Fecha-O'])"
   ]
  },
  {
   "cell_type": "markdown",
   "metadata": {},
   "source": [
    "## Preguntas 1 y 3"
   ]
  },
  {
   "cell_type": "markdown",
   "metadata": {},
   "source": [
    "#### Target Variables \n"
   ]
  },
  {
   "cell_type": "markdown",
   "metadata": {},
   "source": [
    "##### atraso_15"
   ]
  },
  {
   "cell_type": "code",
   "execution_count": 14,
   "metadata": {},
   "outputs": [
    {
     "data": {
      "image/png": "[encoded data removed]",
      "text/plain": [
       "<Figure size 432x288 with 1 Axes>"
      ]
     },
     "metadata": {
      "needs_background": "light"
     },
     "output_type": "display_data"
    },
    {
     "data": {
      "text/plain": [
       "0    0.81506\n",
       "1    0.18494\n",
       "Name: atraso_15, dtype: float64"
      ]
     },
     "execution_count": 14,
     "metadata": {},
     "output_type": "execute_result"
    }
   ],
   "source": [
    "# comprobamos cuantos vuelos atrasados vs no atrasados tenemos\n",
    "sns.countplot(x='atraso_15', data=df)\n",
    "plt.rcParams[\"figure.figsize\"] = (4, 4)\n",
    "plt.show()\n",
    "df['atraso_15'].value_counts(normalize = True)"
   ]
  },
  {
   "cell_type": "markdown",
   "metadata": {},
   "source": [
    "Casi un 18,5% de los vuelos se atrasaron más de 15 minutos. Es un dataset no balanceado.  "
   ]
  },
  {
   "cell_type": "markdown",
   "metadata": {},
   "source": [
    "##### dif_min - Diferencia de minutos"
   ]
  },
  {
   "cell_type": "code",
   "execution_count": 15,
   "metadata": {},
   "outputs": [
    {
     "data": {
      "image/png": "[encoded data removed]",
      "text/plain": [
       "<Figure size 288x288 with 1 Axes>"
      ]
     },
     "metadata": {
      "needs_background": "light"
     },
     "output_type": "display_data"
    }
   ],
   "source": [
    "df['dif_min'].hist(bins=70, density=True)\n",
    "plt.rcParams[\"figure.figsize\"] = (8,8)\n",
    "plt.ylabel('Número de vuelos')\n",
    "plt.xlabel('Atraso (en minutos)')\n",
    "plt.title('Número de vuelos por dif_min')\n",
    "plt.show()"
   ]
  },
  {
   "cell_type": "markdown",
   "metadata": {},
   "source": [
    "Observamos una distribución de dif_min que está sesgada a la derecha. La distribución está centrada en 0 - cosa que tiene sentido, ya que la mayoría de vuelos no sufren atraso. \n",
    "También vemos vuelos que se adelantan (valores negativos en dif_min), pero hay mayor cantidad de vuelos que se atrasan que vuelos que se adelantan (right-skewed distribution)."
   ]
  },
  {
   "cell_type": "code",
   "execution_count": 16,
   "metadata": {},
   "outputs": [
    {
     "data": {
      "image/png": "[encoded data removed]",
      "text/plain": [
       "<Figure size 576x576 with 1 Axes>"
      ]
     },
     "metadata": {
      "needs_background": "light"
     },
     "output_type": "display_data"
    }
   ],
   "source": [
    "ax = sns.boxplot(x=df['dif_min'])\n",
    "plt.title('boxplot dif_min')\n",
    "plt.show()"
   ]
  },
  {
   "cell_type": "code",
   "execution_count": 17,
   "metadata": {},
   "outputs": [
    {
     "name": "stdout",
     "output_type": "stream",
     "text": [
      "El IQR es de 13.0 minutos\n"
     ]
    }
   ],
   "source": [
    "q3, q1 = np.percentile(df['dif_min'],[75, 25])\n",
    "IQR = q3 - q1\n",
    "print(f'El IQR es de {IQR} minutos')\n"
   ]
  },
  {
   "cell_type": "code",
   "execution_count": 18,
   "metadata": {},
   "outputs": [
    {
     "data": {
      "text/plain": [
       "count    68206.000000\n",
       "mean         9.110855\n",
       "std         19.313387\n",
       "min        -14.000000\n",
       "25%         -1.000000\n",
       "50%          4.000000\n",
       "75%         12.000000\n",
       "max        161.000000\n",
       "Name: dif_min, dtype: float64"
      ]
     },
     "execution_count": 18,
     "metadata": {},
     "output_type": "execute_result"
    }
   ],
   "source": [
    "df['dif_min'].describe()"
   ]
  },
  {
   "cell_type": "markdown",
   "metadata": {},
   "source": [
    "El 75% de los vuelos se atrasa un máximo de 12 minutos. El promedio de minutos de atraso es de 9 minutos. \n",
    "\n",
    "La mayoría de vuelos no sufren un atraso considerable, ya que según la definición de atraso_15, un vuelo se considera atrasado cuando se atrasó más de 15 minutos. \n",
    "\n",
    "Aún así, vemos una larga cola a la derecha en la distribución de datos, viendo vuelos que se atrasan 60 o más minutos. "
   ]
  },
  {
   "cell_type": "markdown",
   "metadata": {},
   "source": [
    "#### Predictor Variables"
   ]
  },
  {
   "cell_type": "markdown",
   "metadata": {},
   "source": [
    "##### Aerolinea Programada vs Aerolinea Actual"
   ]
  },
  {
   "cell_type": "markdown",
   "metadata": {},
   "source": [
    "Creamos la columna 'cambio_aerolinea' para verificar si hubo un cambio en la aerolinea (programada vs actual)\n",
    "\n",
    "Las columnas 'Emp-O' y 'OPERA' expresan lo mismo - la Aerolinea o Grupo Comercial de Aerolineas que llevan a cabo el vuelo.\n",
    "Es por ello que decidimos hacer drop a 'Emp-O'"
   ]
  },
  {
   "cell_type": "code",
   "execution_count": 19,
   "metadata": {},
   "outputs": [],
   "source": [
    "df['cambio_aerolinea'] = np.where(df['Emp-I'] == df['Emp-O'], 0, 1)\n",
    "dropcol(df, ['Emp-O'])"
   ]
  },
  {
   "cell_type": "code",
   "execution_count": 20,
   "metadata": {},
   "outputs": [
    {
     "data": {
      "image/png": "[encoded data removed]",
      "text/plain": [
       "<Figure size 576x576 with 1 Axes>"
      ]
     },
     "metadata": {
      "needs_background": "light"
     },
     "output_type": "display_data"
    }
   ],
   "source": [
    "# check if scheduled airline is the same as actual airline \n",
    "sns.countplot(x = 'cambio_aerolinea', hue='atraso_15', data=df)\n",
    "plt.title('scheduled vs actual airline - delayed flights ')\n",
    "plt.rcParams[\"figure.figsize\"] = (3, 3)\n",
    "plt.show()"
   ]
  },
  {
   "cell_type": "code",
   "execution_count": 21,
   "metadata": {},
   "outputs": [
    {
     "data": {
      "text/html": [
       "<div>\n",
       "<style scoped>\n",
       "    .dataframe tbody tr th:only-of-type {\n",
       "        vertical-align: middle;\n",
       "    }\n",
       "\n",
       "    .dataframe tbody tr th {\n",
       "        vertical-align: top;\n",
       "    }\n",
       "\n",
       "    .dataframe thead th {\n",
       "        text-align: right;\n",
       "    }\n",
       "</style>\n",
       "<table border=\"1\" class=\"dataframe\">\n",
       "  <thead>\n",
       "    <tr style=\"text-align: right;\">\n",
       "      <th></th>\n",
       "      <th>cambio_aerolinea</th>\n",
       "      <th>%_atrasados_de_total_atrasados</th>\n",
       "      <th>%_de_total_vuelos</th>\n",
       "      <th>%_atrasados_por_cambio_aerolinea</th>\n",
       "      <th>cumsum_total_vuelos</th>\n",
       "      <th>cumsum_atrasados</th>\n",
       "    </tr>\n",
       "  </thead>\n",
       "  <tbody>\n",
       "    <tr>\n",
       "      <th>0</th>\n",
       "      <td>0</td>\n",
       "      <td>0.73355</td>\n",
       "      <td>0.726285</td>\n",
       "      <td>0.186790</td>\n",
       "      <td>0.726285</td>\n",
       "      <td>0.73355</td>\n",
       "    </tr>\n",
       "    <tr>\n",
       "      <th>1</th>\n",
       "      <td>1</td>\n",
       "      <td>0.26645</td>\n",
       "      <td>0.273715</td>\n",
       "      <td>0.180031</td>\n",
       "      <td>1.000000</td>\n",
       "      <td>1.00000</td>\n",
       "    </tr>\n",
       "  </tbody>\n",
       "</table>\n",
       "</div>"
      ],
      "text/plain": [
       "   cambio_aerolinea  %_atrasados_de_total_atrasados  %_de_total_vuelos  \\\n",
       "0                 0                         0.73355           0.726285   \n",
       "1                 1                         0.26645           0.273715   \n",
       "\n",
       "   %_atrasados_por_cambio_aerolinea  cumsum_total_vuelos  cumsum_atrasados  \n",
       "0                          0.186790             0.726285           0.73355  \n",
       "1                          0.180031             1.000000           1.00000  "
      ]
     },
     "execution_count": 21,
     "metadata": {},
     "output_type": "execute_result"
    }
   ],
   "source": [
    "analisis_atraso_por_col(df,'cambio_aerolinea')"
   ]
  },
  {
   "cell_type": "markdown",
   "metadata": {},
   "source": [
    "Observamos que la aerolinea actual no es siempre la misma que la aerolinea programada.\n",
    "Esto podría ser un indicador de atraso de vuelos.\n",
    "Un 26,6 % del total de vuelos atrasados sufrieron un cambio en la aerolinea. \n",
    "En cuanto al total de vuelos, un 72,62% de ellos no sufrieron cambio en la aerolinea. \n",
    "Tanto de los vuelos que sufrieron cambio en aerolinea como los que no, un 18% aproximadamente de los vuelos se atrasaron más de 15 minutos. "
   ]
  },
  {
   "cell_type": "markdown",
   "metadata": {},
   "source": [
    "##### Numero de vuelo programado vs Numero de vuelo actual"
   ]
  },
  {
   "cell_type": "code",
   "execution_count": 22,
   "metadata": {},
   "outputs": [
    {
     "data": {
      "image/png": "[encoded data removed]",
      "text/plain": [
       "<Figure size 216x216 with 1 Axes>"
      ]
     },
     "metadata": {
      "needs_background": "light"
     },
     "output_type": "display_data"
    }
   ],
   "source": [
    "df['cambio_num_vuelo'] = np.where(df['Vlo-I'] == df['Vlo-O'], 0, 1)\n",
    "sns.countplot(x = 'cambio_num_vuelo', hue='atraso_15', data=df)\n",
    "plt.title('scheduled vs actual flight number - delayed flights ')\n",
    "plt.rcParams[\"figure.figsize\"] = (5, 5)\n",
    "plt.show()"
   ]
  },
  {
   "cell_type": "code",
   "execution_count": 23,
   "metadata": {},
   "outputs": [
    {
     "data": {
      "text/html": [
       "<div>\n",
       "<style scoped>\n",
       "    .dataframe tbody tr th:only-of-type {\n",
       "        vertical-align: middle;\n",
       "    }\n",
       "\n",
       "    .dataframe tbody tr th {\n",
       "        vertical-align: top;\n",
       "    }\n",
       "\n",
       "    .dataframe thead th {\n",
       "        text-align: right;\n",
       "    }\n",
       "</style>\n",
       "<table border=\"1\" class=\"dataframe\">\n",
       "  <thead>\n",
       "    <tr style=\"text-align: right;\">\n",
       "      <th></th>\n",
       "      <th>cambio_num_vuelo</th>\n",
       "      <th>%_atrasados_de_total_atrasados</th>\n",
       "      <th>%_de_total_vuelos</th>\n",
       "      <th>%_atrasados_por_cambio_num_vuelo</th>\n",
       "      <th>cumsum_total_vuelos</th>\n",
       "      <th>cumsum_atrasados</th>\n",
       "    </tr>\n",
       "  </thead>\n",
       "  <tbody>\n",
       "    <tr>\n",
       "      <th>0</th>\n",
       "      <td>0</td>\n",
       "      <td>0.908435</td>\n",
       "      <td>0.933745</td>\n",
       "      <td>0.179927</td>\n",
       "      <td>0.933745</td>\n",
       "      <td>0.908435</td>\n",
       "    </tr>\n",
       "    <tr>\n",
       "      <th>1</th>\n",
       "      <td>1</td>\n",
       "      <td>0.091565</td>\n",
       "      <td>0.066255</td>\n",
       "      <td>0.255588</td>\n",
       "      <td>1.000000</td>\n",
       "      <td>1.000000</td>\n",
       "    </tr>\n",
       "  </tbody>\n",
       "</table>\n",
       "</div>"
      ],
      "text/plain": [
       "   cambio_num_vuelo  %_atrasados_de_total_atrasados  %_de_total_vuelos  \\\n",
       "0                 0                        0.908435           0.933745   \n",
       "1                 1                        0.091565           0.066255   \n",
       "\n",
       "   %_atrasados_por_cambio_num_vuelo  cumsum_total_vuelos  cumsum_atrasados  \n",
       "0                          0.179927             0.933745          0.908435  \n",
       "1                          0.255588             1.000000          1.000000  "
      ]
     },
     "execution_count": 23,
     "metadata": {},
     "output_type": "execute_result"
    }
   ],
   "source": [
    "analisis_atraso_por_col(df,'cambio_num_vuelo')"
   ]
  },
  {
   "cell_type": "code",
   "execution_count": 24,
   "metadata": {},
   "outputs": [
    {
     "data": {
      "text/html": [
       "<div>\n",
       "<style scoped>\n",
       "    .dataframe tbody tr th:only-of-type {\n",
       "        vertical-align: middle;\n",
       "    }\n",
       "\n",
       "    .dataframe tbody tr th {\n",
       "        vertical-align: top;\n",
       "    }\n",
       "\n",
       "    .dataframe thead th {\n",
       "        text-align: right;\n",
       "    }\n",
       "</style>\n",
       "<table border=\"1\" class=\"dataframe\">\n",
       "  <thead>\n",
       "    <tr style=\"text-align: right;\">\n",
       "      <th></th>\n",
       "      <th>Vlo-I</th>\n",
       "      <th>%_atrasados_de_total_atrasados</th>\n",
       "      <th>%_de_total_vuelos</th>\n",
       "      <th>%_atrasados_por_Vlo-I</th>\n",
       "      <th>cumsum_total_vuelos</th>\n",
       "      <th>cumsum_atrasados</th>\n",
       "    </tr>\n",
       "  </thead>\n",
       "  <tbody>\n",
       "    <tr>\n",
       "      <th>184</th>\n",
       "      <td>174</td>\n",
       "      <td>0.007135</td>\n",
       "      <td>0.010058</td>\n",
       "      <td>0.142506</td>\n",
       "      <td>0.010058</td>\n",
       "      <td>0.007135</td>\n",
       "    </tr>\n",
       "    <tr>\n",
       "      <th>29</th>\n",
       "      <td>11</td>\n",
       "      <td>0.002378</td>\n",
       "      <td>0.009457</td>\n",
       "      <td>0.230769</td>\n",
       "      <td>0.019514</td>\n",
       "      <td>0.009513</td>\n",
       "    </tr>\n",
       "    <tr>\n",
       "      <th>69</th>\n",
       "      <td>116</td>\n",
       "      <td>0.018472</td>\n",
       "      <td>0.008914</td>\n",
       "      <td>0.200000</td>\n",
       "      <td>0.028429</td>\n",
       "      <td>0.027985</td>\n",
       "    </tr>\n",
       "    <tr>\n",
       "      <th>164</th>\n",
       "      <td>150</td>\n",
       "      <td>0.006342</td>\n",
       "      <td>0.008166</td>\n",
       "      <td>0.333333</td>\n",
       "      <td>0.036595</td>\n",
       "      <td>0.034327</td>\n",
       "    </tr>\n",
       "    <tr>\n",
       "      <th>446</th>\n",
       "      <td>704</td>\n",
       "      <td>0.012764</td>\n",
       "      <td>0.008152</td>\n",
       "      <td>0.000000</td>\n",
       "      <td>0.044747</td>\n",
       "      <td>0.047091</td>\n",
       "    </tr>\n",
       "    <tr>\n",
       "      <th>175</th>\n",
       "      <td>162</td>\n",
       "      <td>0.004360</td>\n",
       "      <td>0.008108</td>\n",
       "      <td>0.000000</td>\n",
       "      <td>0.052855</td>\n",
       "      <td>0.051451</td>\n",
       "    </tr>\n",
       "    <tr>\n",
       "      <th>176</th>\n",
       "      <td>164</td>\n",
       "      <td>0.006580</td>\n",
       "      <td>0.008064</td>\n",
       "      <td>0.333333</td>\n",
       "      <td>0.060918</td>\n",
       "      <td>0.058031</td>\n",
       "    </tr>\n",
       "    <tr>\n",
       "      <th>78</th>\n",
       "      <td>118</td>\n",
       "      <td>0.002061</td>\n",
       "      <td>0.007448</td>\n",
       "      <td>0.081633</td>\n",
       "      <td>0.068366</td>\n",
       "      <td>0.060092</td>\n",
       "    </tr>\n",
       "    <tr>\n",
       "      <th>183</th>\n",
       "      <td>172</td>\n",
       "      <td>0.006421</td>\n",
       "      <td>0.007301</td>\n",
       "      <td>0.000000</td>\n",
       "      <td>0.075668</td>\n",
       "      <td>0.066513</td>\n",
       "    </tr>\n",
       "    <tr>\n",
       "      <th>180</th>\n",
       "      <td>170</td>\n",
       "      <td>0.003250</td>\n",
       "      <td>0.007257</td>\n",
       "      <td>0.437500</td>\n",
       "      <td>0.082925</td>\n",
       "      <td>0.069764</td>\n",
       "    </tr>\n",
       "  </tbody>\n",
       "</table>\n",
       "</div>"
      ],
      "text/plain": [
       "    Vlo-I  %_atrasados_de_total_atrasados  %_de_total_vuelos  \\\n",
       "184   174                        0.007135           0.010058   \n",
       "29     11                        0.002378           0.009457   \n",
       "69    116                        0.018472           0.008914   \n",
       "164   150                        0.006342           0.008166   \n",
       "446   704                        0.012764           0.008152   \n",
       "175   162                        0.004360           0.008108   \n",
       "176   164                        0.006580           0.008064   \n",
       "78    118                        0.002061           0.007448   \n",
       "183   172                        0.006421           0.007301   \n",
       "180   170                        0.003250           0.007257   \n",
       "\n",
       "     %_atrasados_por_Vlo-I  cumsum_total_vuelos  cumsum_atrasados  \n",
       "184               0.142506             0.010058          0.007135  \n",
       "29                0.230769             0.019514          0.009513  \n",
       "69                0.200000             0.028429          0.027985  \n",
       "164               0.333333             0.036595          0.034327  \n",
       "446               0.000000             0.044747          0.047091  \n",
       "175               0.000000             0.052855          0.051451  \n",
       "176               0.333333             0.060918          0.058031  \n",
       "78                0.081633             0.068366          0.060092  \n",
       "183               0.000000             0.075668          0.066513  \n",
       "180               0.437500             0.082925          0.069764  "
      ]
     },
     "execution_count": 24,
     "metadata": {},
     "output_type": "execute_result"
    }
   ],
   "source": [
    "analisis_atraso_por_col(df,'Vlo-I').head(10)"
   ]
  },
  {
   "cell_type": "code",
   "execution_count": 25,
   "metadata": {},
   "outputs": [
    {
     "data": {
      "text/html": [
       "<div>\n",
       "<style scoped>\n",
       "    .dataframe tbody tr th:only-of-type {\n",
       "        vertical-align: middle;\n",
       "    }\n",
       "\n",
       "    .dataframe tbody tr th {\n",
       "        vertical-align: top;\n",
       "    }\n",
       "\n",
       "    .dataframe thead th {\n",
       "        text-align: right;\n",
       "    }\n",
       "</style>\n",
       "<table border=\"1\" class=\"dataframe\">\n",
       "  <thead>\n",
       "    <tr style=\"text-align: right;\">\n",
       "      <th></th>\n",
       "      <th>Vlo-O</th>\n",
       "      <th>%_atrasados_de_total_atrasados</th>\n",
       "      <th>%_de_total_vuelos</th>\n",
       "      <th>%_atrasados_por_Vlo-O</th>\n",
       "      <th>cumsum_total_vuelos</th>\n",
       "      <th>cumsum_atrasados</th>\n",
       "    </tr>\n",
       "  </thead>\n",
       "  <tbody>\n",
       "    <tr>\n",
       "      <th>257</th>\n",
       "      <td>174</td>\n",
       "      <td>0.006025</td>\n",
       "      <td>0.009515</td>\n",
       "      <td>0.143216</td>\n",
       "      <td>0.009515</td>\n",
       "      <td>0.006025</td>\n",
       "    </tr>\n",
       "    <tr>\n",
       "      <th>36</th>\n",
       "      <td>11</td>\n",
       "      <td>0.002378</td>\n",
       "      <td>0.009471</td>\n",
       "      <td>0.111111</td>\n",
       "      <td>0.018987</td>\n",
       "      <td>0.008403</td>\n",
       "    </tr>\n",
       "    <tr>\n",
       "      <th>87</th>\n",
       "      <td>116</td>\n",
       "      <td>0.018472</td>\n",
       "      <td>0.008914</td>\n",
       "      <td>0.240000</td>\n",
       "      <td>0.027901</td>\n",
       "      <td>0.026875</td>\n",
       "    </tr>\n",
       "    <tr>\n",
       "      <th>225</th>\n",
       "      <td>150</td>\n",
       "      <td>0.005708</td>\n",
       "      <td>0.007580</td>\n",
       "      <td>0.214286</td>\n",
       "      <td>0.035481</td>\n",
       "      <td>0.032583</td>\n",
       "    </tr>\n",
       "    <tr>\n",
       "      <th>686</th>\n",
       "      <td>704</td>\n",
       "      <td>0.011257</td>\n",
       "      <td>0.007536</td>\n",
       "      <td>0.200000</td>\n",
       "      <td>0.043017</td>\n",
       "      <td>0.043840</td>\n",
       "    </tr>\n",
       "  </tbody>\n",
       "</table>\n",
       "</div>"
      ],
      "text/plain": [
       "    Vlo-O  %_atrasados_de_total_atrasados  %_de_total_vuelos  \\\n",
       "257   174                        0.006025           0.009515   \n",
       "36     11                        0.002378           0.009471   \n",
       "87    116                        0.018472           0.008914   \n",
       "225   150                        0.005708           0.007580   \n",
       "686   704                        0.011257           0.007536   \n",
       "\n",
       "     %_atrasados_por_Vlo-O  cumsum_total_vuelos  cumsum_atrasados  \n",
       "257               0.143216             0.009515          0.006025  \n",
       "36                0.111111             0.018987          0.008403  \n",
       "87                0.240000             0.027901          0.026875  \n",
       "225               0.214286             0.035481          0.032583  \n",
       "686               0.200000             0.043017          0.043840  "
      ]
     },
     "execution_count": 25,
     "metadata": {},
     "output_type": "execute_result"
    }
   ],
   "source": [
    "analisis_atraso_por_col(df,'Vlo-O').head()"
   ]
  },
  {
   "cell_type": "markdown",
   "metadata": {},
   "source": [
    "Solamente un 2.7% del total de vuelos sufrieron un cambio en el número de vuelos. \n",
    "De los vuelos atrasados, un 3.7% sufrieron un cambio en el número de vuelo. \n",
    "Con estos datos presentes y analizando los vuelos atrasados por las columnas 'Vol-I' y 'Vol-O' (número de vuelo programado, número de vuelo de operación de vuelo), parece que el número de vuelo no tiene una gran influencia en el atraso del vuelo. Decidimos, por lo tanto, hacer drop a estas columnas\n"
   ]
  },
  {
   "cell_type": "code",
   "execution_count": 26,
   "metadata": {},
   "outputs": [],
   "source": [
    "dropcol(df,['Vlo-O', 'Vlo-I'])"
   ]
  },
  {
   "cell_type": "markdown",
   "metadata": {},
   "source": [
    "##### Destino programado vs Destino final"
   ]
  },
  {
   "cell_type": "code",
   "execution_count": 27,
   "metadata": {},
   "outputs": [
    {
     "data": {
      "image/png": "[encoded data removed]",
      "text/plain": [
       "<Figure size 360x360 with 1 Axes>"
      ]
     },
     "metadata": {
      "needs_background": "light"
     },
     "output_type": "display_data"
    }
   ],
   "source": [
    "# comprobamos si el destino programado es igual al destino del vuelo. \n",
    "df['same_destination'] = np.where(df['Des-I'] == df['Des-O'], 1, 0)\n",
    "sns.countplot(x = 'same_destination', hue='atraso_15', data=df)\n",
    "plt.title('scheduled vs actual destination - delayed flights ')\n",
    "plt.show()"
   ]
  },
  {
   "cell_type": "markdown",
   "metadata": {},
   "source": [
    "Observamos que el destino actual es siempre igual al destino programado (columnas 'Des-I' y 'Des-O')\n",
    "Es decir, no hay cambios en los destinos de los vuelos para todo el dataset. \n",
    "Hacemos drop de la columna 'Des-I'"
   ]
  },
  {
   "cell_type": "code",
   "execution_count": 28,
   "metadata": {},
   "outputs": [],
   "source": [
    "dropcol(df,['Des-I'])"
   ]
  },
  {
   "cell_type": "markdown",
   "metadata": {},
   "source": [
    "##### TIPOVUELO: Vuelos Nacionales vs Vuelos Internacionales"
   ]
  },
  {
   "cell_type": "code",
   "execution_count": 29,
   "metadata": {},
   "outputs": [
    {
     "data": {
      "text/plain": [
       "<AxesSubplot:xlabel='count', ylabel='TIPOVUELO'>"
      ]
     },
     "execution_count": 29,
     "metadata": {},
     "output_type": "execute_result"
    },
    {
     "data": {
      "image/png": "[encoded data removed]",
      "text/plain": [
       "<Figure size 504x216 with 1 Axes>"
      ]
     },
     "metadata": {
      "needs_background": "light"
     },
     "output_type": "display_data"
    }
   ],
   "source": [
    "f, ax = plt.subplots(figsize=(7, 3))\n",
    "sns.countplot(y=\"TIPOVUELO\", data=df, color=\"c\")"
   ]
  },
  {
   "cell_type": "code",
   "execution_count": 30,
   "metadata": {},
   "outputs": [
    {
     "data": {
      "image/png": "[encoded data removed]",
      "text/plain": [
       "<Figure size 360x360 with 1 Axes>"
      ]
     },
     "metadata": {
      "needs_background": "light"
     },
     "output_type": "display_data"
    }
   ],
   "source": [
    "sns.countplot(x = 'TIPOVUELO', hue='atraso_15', data=df)\n",
    "plt.title('TIPOVUELO - atraso_15')\n",
    "plt.show()\n"
   ]
  },
  {
   "cell_type": "code",
   "execution_count": 31,
   "metadata": {},
   "outputs": [
    {
     "data": {
      "text/html": [
       "<div>\n",
       "<style scoped>\n",
       "    .dataframe tbody tr th:only-of-type {\n",
       "        vertical-align: middle;\n",
       "    }\n",
       "\n",
       "    .dataframe tbody tr th {\n",
       "        vertical-align: top;\n",
       "    }\n",
       "\n",
       "    .dataframe thead th {\n",
       "        text-align: right;\n",
       "    }\n",
       "</style>\n",
       "<table border=\"1\" class=\"dataframe\">\n",
       "  <thead>\n",
       "    <tr style=\"text-align: right;\">\n",
       "      <th></th>\n",
       "      <th>TIPOVUELO</th>\n",
       "      <th>%_atrasados_de_total_atrasados</th>\n",
       "      <th>%_de_total_vuelos</th>\n",
       "      <th>%_atrasados_por_TIPOVUELO</th>\n",
       "      <th>cumsum_total_vuelos</th>\n",
       "      <th>cumsum_atrasados</th>\n",
       "    </tr>\n",
       "  </thead>\n",
       "  <tbody>\n",
       "    <tr>\n",
       "      <th>1</th>\n",
       "      <td>N</td>\n",
       "      <td>0.441256</td>\n",
       "      <td>0.541976</td>\n",
       "      <td>0.225608</td>\n",
       "      <td>0.541976</td>\n",
       "      <td>0.441256</td>\n",
       "    </tr>\n",
       "    <tr>\n",
       "      <th>0</th>\n",
       "      <td>I</td>\n",
       "      <td>0.558744</td>\n",
       "      <td>0.458024</td>\n",
       "      <td>0.150571</td>\n",
       "      <td>1.000000</td>\n",
       "      <td>1.000000</td>\n",
       "    </tr>\n",
       "  </tbody>\n",
       "</table>\n",
       "</div>"
      ],
      "text/plain": [
       "  TIPOVUELO  %_atrasados_de_total_atrasados  %_de_total_vuelos  \\\n",
       "1         N                        0.441256           0.541976   \n",
       "0         I                        0.558744           0.458024   \n",
       "\n",
       "   %_atrasados_por_TIPOVUELO  cumsum_total_vuelos  cumsum_atrasados  \n",
       "1                   0.225608             0.541976          0.441256  \n",
       "0                   0.150571             1.000000          1.000000  "
      ]
     },
     "execution_count": 31,
     "metadata": {},
     "output_type": "execute_result"
    }
   ],
   "source": [
    "analisis_atraso_por_col(df,'TIPOVUELO')"
   ]
  },
  {
   "cell_type": "markdown",
   "metadata": {},
   "source": [
    "Observamos que un 22% de vuelos internacionales se atrasan vs un 15% de vuelos nacionales. \n",
    "Algunas de las razones por las que los vuelos internacionales se atrasen más que los nacionales pueden ser: medidas de seguridad por operar con distintos países, mayor tiempo de mantenimiento al avión (por ser vuelos más largos), condiciones climáticas de distintos paises, etc.\n",
    "\n",
    "En total un 54% de los vuelos son vuelos nacionales y un 45.8% son internacionales. "
   ]
  },
  {
   "cell_type": "markdown",
   "metadata": {},
   "source": [
    "##### TEMPORADA_ALTA "
   ]
  },
  {
   "cell_type": "code",
   "execution_count": 32,
   "metadata": {},
   "outputs": [
    {
     "data": {
      "image/png": "[encoded data removed]",
      "text/plain": [
       "<Figure size 504x216 with 1 Axes>"
      ]
     },
     "metadata": {
      "needs_background": "light"
     },
     "output_type": "display_data"
    }
   ],
   "source": [
    "f, ax = plt.subplots(figsize=(7, 3))\n",
    "sns.countplot(y=\"temporada_alta\", data=df, color=\"c\")\n",
    "plt.title('Número de vuelos según temporada')\n",
    "plt.show()"
   ]
  },
  {
   "cell_type": "code",
   "execution_count": 33,
   "metadata": {},
   "outputs": [
    {
     "data": {
      "image/png": "[encoded data removed]",
      "text/plain": [
       "<Figure size 360x360 with 1 Axes>"
      ]
     },
     "metadata": {
      "needs_background": "light"
     },
     "output_type": "display_data"
    }
   ],
   "source": [
    "# Vuelos atrasados según temporada\n",
    "sns.countplot(x = 'temporada_alta', hue='atraso_15', data=df)\n",
    "plt.title('atraso_15 según temporada alta')\n",
    "plt.show()"
   ]
  },
  {
   "cell_type": "code",
   "execution_count": 34,
   "metadata": {},
   "outputs": [
    {
     "data": {
      "text/html": [
       "<div>\n",
       "<style scoped>\n",
       "    .dataframe tbody tr th:only-of-type {\n",
       "        vertical-align: middle;\n",
       "    }\n",
       "\n",
       "    .dataframe tbody tr th {\n",
       "        vertical-align: top;\n",
       "    }\n",
       "\n",
       "    .dataframe thead th {\n",
       "        text-align: right;\n",
       "    }\n",
       "</style>\n",
       "<table border=\"1\" class=\"dataframe\">\n",
       "  <thead>\n",
       "    <tr style=\"text-align: right;\">\n",
       "      <th></th>\n",
       "      <th>temporada_alta</th>\n",
       "      <th>%_atrasados_de_total_atrasados</th>\n",
       "      <th>%_de_total_vuelos</th>\n",
       "      <th>%_atrasados_por_temporada_alta</th>\n",
       "      <th>cumsum_total_vuelos</th>\n",
       "      <th>cumsum_atrasados</th>\n",
       "    </tr>\n",
       "  </thead>\n",
       "  <tbody>\n",
       "    <tr>\n",
       "      <th>0</th>\n",
       "      <td>0</td>\n",
       "      <td>0.541541</td>\n",
       "      <td>0.625883</td>\n",
       "      <td>0.160018</td>\n",
       "      <td>0.625883</td>\n",
       "      <td>0.541541</td>\n",
       "    </tr>\n",
       "    <tr>\n",
       "      <th>1</th>\n",
       "      <td>1</td>\n",
       "      <td>0.458459</td>\n",
       "      <td>0.374117</td>\n",
       "      <td>0.226633</td>\n",
       "      <td>1.000000</td>\n",
       "      <td>1.000000</td>\n",
       "    </tr>\n",
       "  </tbody>\n",
       "</table>\n",
       "</div>"
      ],
      "text/plain": [
       "   temporada_alta  %_atrasados_de_total_atrasados  %_de_total_vuelos  \\\n",
       "0               0                        0.541541           0.625883   \n",
       "1               1                        0.458459           0.374117   \n",
       "\n",
       "   %_atrasados_por_temporada_alta  cumsum_total_vuelos  cumsum_atrasados  \n",
       "0                        0.160018             0.625883          0.541541  \n",
       "1                        0.226633             1.000000          1.000000  "
      ]
     },
     "execution_count": 34,
     "metadata": {},
     "output_type": "execute_result"
    }
   ],
   "source": [
    "analisis_atraso_por_col(df, 'temporada_alta')"
   ]
  },
  {
   "cell_type": "markdown",
   "metadata": {},
   "source": [
    "En temporada alta un 22,66 % de los vuelos se atrasan, vs un 16 % de los vuelos cuando no es temporada alta. \n",
    "El 37.41% de los vuelos son en temporada alta. "
   ]
  },
  {
   "cell_type": "markdown",
   "metadata": {},
   "source": [
    "##### DÍA"
   ]
  },
  {
   "cell_type": "code",
   "execution_count": 35,
   "metadata": {},
   "outputs": [
    {
     "data": {
      "image/png": "[encoded data removed]",
      "text/plain": [
       "<Figure size 360x360 with 1 Axes>"
      ]
     },
     "metadata": {
      "needs_background": "light"
     },
     "output_type": "display_data"
    }
   ],
   "source": [
    "sns.countplot(x=\"DIA\", data=df, color = 'c')\n",
    "plt.title('Número de vuelos por DIA')\n",
    "plt.show()"
   ]
  },
  {
   "cell_type": "code",
   "execution_count": 36,
   "metadata": {},
   "outputs": [
    {
     "data": {
      "image/png": "[encoded data removed]",
      "text/plain": [
       "<Figure size 360x360 with 1 Axes>"
      ]
     },
     "metadata": {
      "needs_background": "light"
     },
     "output_type": "display_data"
    }
   ],
   "source": [
    "dia = analisis_atraso_por_col(df,'DIA').sort_index()\n",
    "fig, ax = plt.subplots()\n",
    "\n",
    "ax.plot('DIA', '%_de_total_vuelos', data= dia, label = '%_de_total_vuelos')\n",
    "ax.plot('DIA', '%_atrasados_por_DIA', data= dia, label = '%_atrasados_por_DIA')\n",
    "ax.plot('DIA', '%_atrasados_de_total_atrasados', data= dia, label = '%_atrasados_de_total_atrasados')\n",
    "ax.legend(loc='upper left')\n",
    "plt.show()"
   ]
  },
  {
   "cell_type": "markdown",
   "metadata": {},
   "source": [
    "El número de vuelos por DIA se distribuye más o menos de manera uniforme, pero observamos que al final del mes el número de vuelos es menor. Esto puede ser debido a que las personas a fin de mes estén más ajustados con el presupuesto y viajen menos. \n",
    "\n",
    "En cuanto a vuelos atrasados por DIA del mes, podemos ver que a principio y a final de mes hay menos vuelos atrasados, y en promedio los vuelos se atrasan más la segunda y tercera semana del mes. \n",
    "\n",
    "Debido a que ya incluimos la variable DIANOM, vamos a hacer drop a esta variable ."
   ]
  },
  {
   "cell_type": "code",
   "execution_count": 37,
   "metadata": {},
   "outputs": [],
   "source": [
    "dropcol(df, ['DIA'])"
   ]
  },
  {
   "cell_type": "markdown",
   "metadata": {},
   "source": [
    "##### MES"
   ]
  },
  {
   "cell_type": "code",
   "execution_count": 38,
   "metadata": {},
   "outputs": [
    {
     "data": {
      "image/png": "[encoded data removed]",
      "text/plain": [
       "<Figure size 360x360 with 1 Axes>"
      ]
     },
     "metadata": {
      "needs_background": "light"
     },
     "output_type": "display_data"
    }
   ],
   "source": [
    "sns.countplot(x=\"MES\", data=df, color = 'c')\n",
    "plt.title(\"Número de vuelos por MES\")\n",
    "plt.show()"
   ]
  },
  {
   "cell_type": "code",
   "execution_count": 39,
   "metadata": {},
   "outputs": [
    {
     "data": {
      "image/png": "[encoded data removed]",
      "text/plain": [
       "<Figure size 360x360 with 1 Axes>"
      ]
     },
     "metadata": {
      "needs_background": "light"
     },
     "output_type": "display_data"
    }
   ],
   "source": [
    "mes = analisis_atraso_por_col(df,'MES').sort_index()\n",
    "fig, ax = plt.subplots()\n",
    "\n",
    "ax.plot('MES', '%_de_total_vuelos', data= mes, label = '%_de_total_vuelos')\n",
    "ax.plot('MES', '%_atrasados_por_MES', data= mes, label = '%_atrasados_por_MES')\n",
    "ax.plot('MES', '%_atrasados_de_total_atrasados', data= mes, label = '%_atrasados_de_total_atrasados')\n",
    "ax.legend(loc='upper left')\n",
    "plt.show()"
   ]
  },
  {
   "cell_type": "code",
   "execution_count": 40,
   "metadata": {},
   "outputs": [
    {
     "data": {
      "text/html": [
       "<div>\n",
       "<style scoped>\n",
       "    .dataframe tbody tr th:only-of-type {\n",
       "        vertical-align: middle;\n",
       "    }\n",
       "\n",
       "    .dataframe tbody tr th {\n",
       "        vertical-align: top;\n",
       "    }\n",
       "\n",
       "    .dataframe thead th {\n",
       "        text-align: right;\n",
       "    }\n",
       "</style>\n",
       "<table border=\"1\" class=\"dataframe\">\n",
       "  <thead>\n",
       "    <tr style=\"text-align: right;\">\n",
       "      <th></th>\n",
       "      <th>MES</th>\n",
       "      <th>%_atrasados_de_total_atrasados</th>\n",
       "      <th>%_de_total_vuelos</th>\n",
       "      <th>%_atrasados_por_MES</th>\n",
       "      <th>cumsum_total_vuelos</th>\n",
       "      <th>cumsum_atrasados</th>\n",
       "    </tr>\n",
       "  </thead>\n",
       "  <tbody>\n",
       "    <tr>\n",
       "      <th>5</th>\n",
       "      <td>6</td>\n",
       "      <td>0.067544</td>\n",
       "      <td>0.073029</td>\n",
       "      <td>0.254091</td>\n",
       "      <td>1.000000</td>\n",
       "      <td>1.000000</td>\n",
       "    </tr>\n",
       "    <tr>\n",
       "      <th>8</th>\n",
       "      <td>9</td>\n",
       "      <td>0.076661</td>\n",
       "      <td>0.082251</td>\n",
       "      <td>0.293391</td>\n",
       "      <td>0.614638</td>\n",
       "      <td>0.703663</td>\n",
       "    </tr>\n",
       "  </tbody>\n",
       "</table>\n",
       "</div>"
      ],
      "text/plain": [
       "   MES  %_atrasados_de_total_atrasados  %_de_total_vuelos  \\\n",
       "5    6                        0.067544           0.073029   \n",
       "8    9                        0.076661           0.082251   \n",
       "\n",
       "   %_atrasados_por_MES  cumsum_total_vuelos  cumsum_atrasados  \n",
       "5             0.254091             1.000000          1.000000  \n",
       "8             0.293391             0.614638          0.703663  "
      ]
     },
     "execution_count": 40,
     "metadata": {},
     "output_type": "execute_result"
    }
   ],
   "source": [
    "mes.loc[mes['MES'].isin([6,9])]"
   ]
  },
  {
   "cell_type": "markdown",
   "metadata": {},
   "source": [
    "El número de vuelos por MES se distribuye de manera casi-uniforme en todos los meses. Observamos un aumento en cantidad de vuelos los meses de JULIO, DICIEMBRE y ENERO. Esto tiene sentido, ya que son meses de temporada_alta y, en estos meses la gente tiende a viajar más - las vacaciones escolares, las fiestas de navidad, etc son razones por las cuales la gente decide viajar más esos meses. \n",
    "\n",
    "En cuanto a % de los vuelos atrasados por MES, vemos un aumento en los meses de Junio y Septiembre, con un 25,40% de vuelos atrasados en Junio y un 29.33% en Septiembre. "
   ]
  },
  {
   "cell_type": "markdown",
   "metadata": {},
   "source": [
    "##### DIANOM"
   ]
  },
  {
   "cell_type": "code",
   "execution_count": 41,
   "metadata": {},
   "outputs": [
    {
     "data": {
      "image/png": "[encoded data removed]",
      "text/plain": [
       "<Figure size 360x360 with 1 Axes>"
      ]
     },
     "metadata": {
      "needs_background": "light"
     },
     "output_type": "display_data"
    }
   ],
   "source": [
    "sns.countplot(x=\"DIANOM\", data=df, color = 'c')\n",
    "plt.title(\"Número de vuelos por DIANOM\")\n",
    "plt.show()"
   ]
  },
  {
   "cell_type": "code",
   "execution_count": 42,
   "metadata": {},
   "outputs": [
    {
     "data": {
      "text/html": [
       "<div>\n",
       "<style scoped>\n",
       "    .dataframe tbody tr th:only-of-type {\n",
       "        vertical-align: middle;\n",
       "    }\n",
       "\n",
       "    .dataframe tbody tr th {\n",
       "        vertical-align: top;\n",
       "    }\n",
       "\n",
       "    .dataframe thead th {\n",
       "        text-align: right;\n",
       "    }\n",
       "</style>\n",
       "<table border=\"1\" class=\"dataframe\">\n",
       "  <thead>\n",
       "    <tr style=\"text-align: right;\">\n",
       "      <th></th>\n",
       "      <th>DIANOM</th>\n",
       "      <th>%_atrasados_de_total_atrasados</th>\n",
       "      <th>%_de_total_vuelos</th>\n",
       "      <th>%_atrasados_por_DIANOM</th>\n",
       "      <th>cumsum_total_vuelos</th>\n",
       "      <th>cumsum_atrasados</th>\n",
       "    </tr>\n",
       "  </thead>\n",
       "  <tbody>\n",
       "    <tr>\n",
       "      <th>6</th>\n",
       "      <td>Viernes</td>\n",
       "      <td>0.181148</td>\n",
       "      <td>0.150896</td>\n",
       "      <td>0.161086</td>\n",
       "      <td>0.150896</td>\n",
       "      <td>0.181148</td>\n",
       "    </tr>\n",
       "    <tr>\n",
       "      <th>1</th>\n",
       "      <td>Jueves</td>\n",
       "      <td>0.162121</td>\n",
       "      <td>0.150295</td>\n",
       "      <td>0.199493</td>\n",
       "      <td>0.301191</td>\n",
       "      <td>0.343269</td>\n",
       "    </tr>\n",
       "    <tr>\n",
       "      <th>2</th>\n",
       "      <td>Lunes</td>\n",
       "      <td>0.162359</td>\n",
       "      <td>0.148535</td>\n",
       "      <td>0.202152</td>\n",
       "      <td>0.449726</td>\n",
       "      <td>0.505629</td>\n",
       "    </tr>\n",
       "    <tr>\n",
       "      <th>0</th>\n",
       "      <td>Domingo</td>\n",
       "      <td>0.125099</td>\n",
       "      <td>0.143624</td>\n",
       "      <td>0.169116</td>\n",
       "      <td>0.593350</td>\n",
       "      <td>0.630728</td>\n",
       "    </tr>\n",
       "    <tr>\n",
       "      <th>4</th>\n",
       "      <td>Miercoles</td>\n",
       "      <td>0.131679</td>\n",
       "      <td>0.142539</td>\n",
       "      <td>0.170850</td>\n",
       "      <td>0.735888</td>\n",
       "      <td>0.762407</td>\n",
       "    </tr>\n",
       "    <tr>\n",
       "      <th>3</th>\n",
       "      <td>Martes</td>\n",
       "      <td>0.129539</td>\n",
       "      <td>0.141659</td>\n",
       "      <td>0.163194</td>\n",
       "      <td>0.877547</td>\n",
       "      <td>0.891945</td>\n",
       "    </tr>\n",
       "    <tr>\n",
       "      <th>5</th>\n",
       "      <td>Sabado</td>\n",
       "      <td>0.108055</td>\n",
       "      <td>0.122453</td>\n",
       "      <td>0.222017</td>\n",
       "      <td>1.000000</td>\n",
       "      <td>1.000000</td>\n",
       "    </tr>\n",
       "  </tbody>\n",
       "</table>\n",
       "</div>"
      ],
      "text/plain": [
       "      DIANOM  %_atrasados_de_total_atrasados  %_de_total_vuelos  \\\n",
       "6    Viernes                        0.181148           0.150896   \n",
       "1     Jueves                        0.162121           0.150295   \n",
       "2      Lunes                        0.162359           0.148535   \n",
       "0    Domingo                        0.125099           0.143624   \n",
       "4  Miercoles                        0.131679           0.142539   \n",
       "3     Martes                        0.129539           0.141659   \n",
       "5     Sabado                        0.108055           0.122453   \n",
       "\n",
       "   %_atrasados_por_DIANOM  cumsum_total_vuelos  cumsum_atrasados  \n",
       "6                0.161086             0.150896          0.181148  \n",
       "1                0.199493             0.301191          0.343269  \n",
       "2                0.202152             0.449726          0.505629  \n",
       "0                0.169116             0.593350          0.630728  \n",
       "4                0.170850             0.735888          0.762407  \n",
       "3                0.163194             0.877547          0.891945  \n",
       "5                0.222017             1.000000          1.000000  "
      ]
     },
     "execution_count": 42,
     "metadata": {},
     "output_type": "execute_result"
    }
   ],
   "source": [
    "dianom = analisis_atraso_por_col(df,'DIANOM')\n",
    "dianom"
   ]
  },
  {
   "cell_type": "code",
   "execution_count": 43,
   "metadata": {},
   "outputs": [
    {
     "data": {
      "image/png": "[encoded data removed]",
      "text/plain": [
       "<Figure size 360x360 with 1 Axes>"
      ]
     },
     "metadata": {
      "needs_background": "light"
     },
     "output_type": "display_data"
    }
   ],
   "source": [
    "\n",
    "dianom = analisis_atraso_por_col(df,'DIANOM')\n",
    "days = {'Lunes':0,'Martes':1,'Miercoles':2,'Jueves':3,'Viernes':4,'Sabado':5,'Domingo':6}\n",
    "dianom['DIANOM'] = dianom['DIANOM'].apply(lambda x: days[x])\n",
    "dianom = dianom.sort_values('DIANOM')\n",
    "days = {0:'Lunes',1:'Martes',2:'Miercoles',3:'Jueves',4:'Viernes',5:'Sabado',6:'Domingo'}\n",
    "dianom['DIANOM'] = dianom['DIANOM'].apply(lambda x: days[x])\n",
    "\n",
    "fig, ax = plt.subplots()\n",
    "\n",
    "ax.plot('DIANOM', '%_de_total_vuelos', data= dianom, label = '%_de_total_vuelos')\n",
    "ax.plot('DIANOM', '%_atrasados_por_DIANOM', data= dianom, label = '%_atrasados_por_DIANOM')\n",
    "ax.plot('DIANOM', '%_atrasados_de_total_atrasados', data= dianom, label = '%_atrasados_de_total_atrasados')\n",
    "ax.legend(loc='upper left')\n",
    "plt.show()\n",
    "\n"
   ]
  },
  {
   "cell_type": "markdown",
   "metadata": {},
   "source": [
    "Los Jueves, Viernes y Lunes hay más vuelos - puede ser debido a que la gente viaja en estos dias para aprovechar el fin de semana en otro sitio. \n",
    "\n",
    "Vemos que el día que menos vuelos hay son los Sábados. Esto tiene sentido ya que, siguiendo el mismo razonamiento de antes, viajar el Sabado te \"corta\" el fin de semana. \n",
    "\n",
    "En cuanto al % de vuelos atrasados por día de la semana, los días con mayor % de vuelos atrasados son los Lunes, Jueves y Sábados. "
   ]
  },
  {
   "cell_type": "markdown",
   "metadata": {},
   "source": [
    "##### PERIODO DÍA"
   ]
  },
  {
   "cell_type": "code",
   "execution_count": 44,
   "metadata": {},
   "outputs": [
    {
     "data": {
      "image/png": "[encoded data removed]",
      "text/plain": [
       "<Figure size 504x216 with 1 Axes>"
      ]
     },
     "metadata": {
      "needs_background": "light"
     },
     "output_type": "display_data"
    }
   ],
   "source": [
    "f, ax = plt.subplots(figsize=(7, 3))\n",
    "sns.countplot(y=\"periodo_dia\", data=df, color=\"c\")\n",
    "plt.title('Número de vuelos según el periodo del día')\n",
    "plt.show()"
   ]
  },
  {
   "cell_type": "code",
   "execution_count": 45,
   "metadata": {},
   "outputs": [
    {
     "data": {
      "image/png": "[encoded data removed]",
      "text/plain": [
       "<Figure size 360x360 with 1 Axes>"
      ]
     },
     "metadata": {
      "needs_background": "light"
     },
     "output_type": "display_data"
    }
   ],
   "source": [
    "# Vuelos atrasados según periodo_dia\n",
    "sns.countplot(x = 'periodo_dia', hue='atraso_15', data=df)\n",
    "plt.title('Vuelos atrasados según el periodo del día')\n",
    "plt.show()"
   ]
  },
  {
   "cell_type": "code",
   "execution_count": 46,
   "metadata": {},
   "outputs": [
    {
     "data": {
      "text/html": [
       "<div>\n",
       "<style scoped>\n",
       "    .dataframe tbody tr th:only-of-type {\n",
       "        vertical-align: middle;\n",
       "    }\n",
       "\n",
       "    .dataframe tbody tr th {\n",
       "        vertical-align: top;\n",
       "    }\n",
       "\n",
       "    .dataframe thead th {\n",
       "        text-align: right;\n",
       "    }\n",
       "</style>\n",
       "<table border=\"1\" class=\"dataframe\">\n",
       "  <thead>\n",
       "    <tr style=\"text-align: right;\">\n",
       "      <th></th>\n",
       "      <th>periodo_dia</th>\n",
       "      <th>%_atrasados_de_total_atrasados</th>\n",
       "      <th>%_de_total_vuelos</th>\n",
       "      <th>%_atrasados_por_periodo_dia</th>\n",
       "      <th>cumsum_total_vuelos</th>\n",
       "      <th>cumsum_atrasados</th>\n",
       "    </tr>\n",
       "  </thead>\n",
       "  <tbody>\n",
       "    <tr>\n",
       "      <th>2</th>\n",
       "      <td>tarde</td>\n",
       "      <td>0.403203</td>\n",
       "      <td>0.373955</td>\n",
       "      <td>0.160066</td>\n",
       "      <td>0.373955</td>\n",
       "      <td>0.403203</td>\n",
       "    </tr>\n",
       "    <tr>\n",
       "      <th>0</th>\n",
       "      <td>mañana</td>\n",
       "      <td>0.321706</td>\n",
       "      <td>0.371698</td>\n",
       "      <td>0.200023</td>\n",
       "      <td>0.745653</td>\n",
       "      <td>0.724909</td>\n",
       "    </tr>\n",
       "    <tr>\n",
       "      <th>1</th>\n",
       "      <td>noche</td>\n",
       "      <td>0.275091</td>\n",
       "      <td>0.254347</td>\n",
       "      <td>0.199404</td>\n",
       "      <td>1.000000</td>\n",
       "      <td>1.000000</td>\n",
       "    </tr>\n",
       "  </tbody>\n",
       "</table>\n",
       "</div>"
      ],
      "text/plain": [
       "  periodo_dia  %_atrasados_de_total_atrasados  %_de_total_vuelos  \\\n",
       "2       tarde                        0.403203           0.373955   \n",
       "0      mañana                        0.321706           0.371698   \n",
       "1       noche                        0.275091           0.254347   \n",
       "\n",
       "   %_atrasados_por_periodo_dia  cumsum_total_vuelos  cumsum_atrasados  \n",
       "2                     0.160066             0.373955          0.403203  \n",
       "0                     0.200023             0.745653          0.724909  \n",
       "1                     0.199404             1.000000          1.000000  "
      ]
     },
     "execution_count": 46,
     "metadata": {},
     "output_type": "execute_result"
    }
   ],
   "source": [
    "analisis_atraso_por_col(df, 'periodo_dia')"
   ]
  },
  {
   "cell_type": "markdown",
   "metadata": {},
   "source": [
    "Hay aproximadamente la misma cantidad de vuelos  mañana y por la tarde, pero vemos considerablemente una menor cantidad de vuelos por la noche. \n",
    "\n",
    "El % de vuelos atrasados por periodo del día ronda el 19% para vuelos que son por la mañana y por la noche, y el 16% para vuelos que son por la tarde.\n",
    "No se puede extraer ninguna conclusión de esto ya que consideramos que el % de vuelos atrasados por periodo del dia es parecido para la mañana, tarde y noche"
   ]
  },
  {
   "cell_type": "markdown",
   "metadata": {},
   "source": [
    "##### OPERA"
   ]
  },
  {
   "cell_type": "code",
   "execution_count": 47,
   "metadata": {},
   "outputs": [
    {
     "data": {
      "image/png": "[encoded data removed]",
      "text/plain": [
       "<Figure size 360x360 with 1 Axes>"
      ]
     },
     "metadata": {
      "needs_background": "light"
     },
     "output_type": "display_data"
    },
    {
     "data": {
      "image/png": "[encoded data removed]",
      "text/plain": [
       "<Figure size 1440x1440 with 1 Axes>"
      ]
     },
     "metadata": {
      "needs_background": "light"
     },
     "output_type": "display_data"
    }
   ],
   "source": [
    "ax = sns.countplot(x = 'OPERA', data=df)\n",
    "plt.rcParams[\"figure.figsize\"] = (20, 20)\n",
    "ax.set_xticklabels(ax.get_xticklabels(), rotation=40, ha=\"right\", fontsize = 10)\n",
    "plt.tight_layout()\n",
    "plt.title('número de vuelos según la aerolinea que OPERA')\n",
    "plt.show()\n",
    "\n",
    "ax = sns.countplot(x = 'OPERA', hue='atraso_15', data=df)\n",
    "plt.rcParams[\"figure.figsize\"] = (20, 20)\n",
    "ax.set_xticklabels(ax.get_xticklabels(), rotation=40, ha=\"right\", fontsize = 10)\n",
    "plt.tight_layout()\n",
    "plt.title('vuelos atrasados según la aerolinea que OPERA')\n",
    "plt.show()"
   ]
  },
  {
   "cell_type": "code",
   "execution_count": 48,
   "metadata": {},
   "outputs": [
    {
     "data": {
      "text/html": [
       "<div>\n",
       "<style scoped>\n",
       "    .dataframe tbody tr th:only-of-type {\n",
       "        vertical-align: middle;\n",
       "    }\n",
       "\n",
       "    .dataframe tbody tr th {\n",
       "        vertical-align: top;\n",
       "    }\n",
       "\n",
       "    .dataframe thead th {\n",
       "        text-align: right;\n",
       "    }\n",
       "</style>\n",
       "<table border=\"1\" class=\"dataframe\">\n",
       "  <thead>\n",
       "    <tr style=\"text-align: right;\">\n",
       "      <th></th>\n",
       "      <th>OPERA</th>\n",
       "      <th>%_atrasados_de_total_atrasados</th>\n",
       "      <th>%_de_total_vuelos</th>\n",
       "      <th>%_atrasados_por_OPERA</th>\n",
       "      <th>cumsum_total_vuelos</th>\n",
       "      <th>cumsum_atrasados</th>\n",
       "    </tr>\n",
       "  </thead>\n",
       "  <tbody>\n",
       "    <tr>\n",
       "      <th>12</th>\n",
       "      <td>Grupo LATAM</td>\n",
       "      <td>0.579198</td>\n",
       "      <td>0.599537</td>\n",
       "      <td>0.240123</td>\n",
       "      <td>0.599537</td>\n",
       "      <td>0.579198</td>\n",
       "    </tr>\n",
       "    <tr>\n",
       "      <th>21</th>\n",
       "      <td>Sky Airline</td>\n",
       "      <td>0.201364</td>\n",
       "      <td>0.209630</td>\n",
       "      <td>0.028490</td>\n",
       "      <td>0.809166</td>\n",
       "      <td>0.780561</td>\n",
       "    </tr>\n",
       "    <tr>\n",
       "      <th>0</th>\n",
       "      <td>Aerolineas Argentinas</td>\n",
       "      <td>0.037102</td>\n",
       "      <td>0.028575</td>\n",
       "      <td>0.456637</td>\n",
       "      <td>0.837742</td>\n",
       "      <td>0.817663</td>\n",
       "    </tr>\n",
       "    <tr>\n",
       "      <th>9</th>\n",
       "      <td>Copa Air</td>\n",
       "      <td>0.009196</td>\n",
       "      <td>0.027124</td>\n",
       "      <td>0.083799</td>\n",
       "      <td>0.864865</td>\n",
       "      <td>0.826859</td>\n",
       "    </tr>\n",
       "    <tr>\n",
       "      <th>17</th>\n",
       "      <td>Latin American Wings</td>\n",
       "      <td>0.053988</td>\n",
       "      <td>0.024543</td>\n",
       "      <td>0.111969</td>\n",
       "      <td>0.889409</td>\n",
       "      <td>0.880847</td>\n",
       "    </tr>\n",
       "    <tr>\n",
       "      <th>7</th>\n",
       "      <td>Avianca</td>\n",
       "      <td>0.024259</td>\n",
       "      <td>0.016890</td>\n",
       "      <td>0.067371</td>\n",
       "      <td>0.906299</td>\n",
       "      <td>0.905105</td>\n",
       "    </tr>\n",
       "    <tr>\n",
       "      <th>14</th>\n",
       "      <td>JetSmart SPA</td>\n",
       "      <td>0.015538</td>\n",
       "      <td>0.016054</td>\n",
       "      <td>0.202703</td>\n",
       "      <td>0.922353</td>\n",
       "      <td>0.920644</td>\n",
       "    </tr>\n",
       "    <tr>\n",
       "      <th>11</th>\n",
       "      <td>Gol Trans</td>\n",
       "      <td>0.022752</td>\n",
       "      <td>0.011817</td>\n",
       "      <td>0.265625</td>\n",
       "      <td>0.934170</td>\n",
       "      <td>0.943396</td>\n",
       "    </tr>\n",
       "    <tr>\n",
       "      <th>5</th>\n",
       "      <td>American Airlines</td>\n",
       "      <td>0.004043</td>\n",
       "      <td>0.011099</td>\n",
       "      <td>0.141463</td>\n",
       "      <td>0.945269</td>\n",
       "      <td>0.947439</td>\n",
       "    </tr>\n",
       "    <tr>\n",
       "      <th>2</th>\n",
       "      <td>Air Canada</td>\n",
       "      <td>0.020453</td>\n",
       "      <td>0.008284</td>\n",
       "      <td>0.062703</td>\n",
       "      <td>0.953552</td>\n",
       "      <td>0.967893</td>\n",
       "    </tr>\n",
       "  </tbody>\n",
       "</table>\n",
       "</div>"
      ],
      "text/plain": [
       "                    OPERA  %_atrasados_de_total_atrasados  %_de_total_vuelos  \\\n",
       "12            Grupo LATAM                        0.579198           0.599537   \n",
       "21            Sky Airline                        0.201364           0.209630   \n",
       "0   Aerolineas Argentinas                        0.037102           0.028575   \n",
       "9                Copa Air                        0.009196           0.027124   \n",
       "17   Latin American Wings                        0.053988           0.024543   \n",
       "7                 Avianca                        0.024259           0.016890   \n",
       "14           JetSmart SPA                        0.015538           0.016054   \n",
       "11              Gol Trans                        0.022752           0.011817   \n",
       "5       American Airlines                        0.004043           0.011099   \n",
       "2              Air Canada                        0.020453           0.008284   \n",
       "\n",
       "    %_atrasados_por_OPERA  cumsum_total_vuelos  cumsum_atrasados  \n",
       "12               0.240123             0.599537          0.579198  \n",
       "21               0.028490             0.809166          0.780561  \n",
       "0                0.456637             0.837742          0.817663  \n",
       "9                0.083799             0.864865          0.826859  \n",
       "17               0.111969             0.889409          0.880847  \n",
       "7                0.067371             0.906299          0.905105  \n",
       "14               0.202703             0.922353          0.920644  \n",
       "11               0.265625             0.934170          0.943396  \n",
       "5                0.141463             0.945269          0.947439  \n",
       "2                0.062703             0.953552          0.967893  "
      ]
     },
     "execution_count": 48,
     "metadata": {},
     "output_type": "execute_result"
    }
   ],
   "source": [
    "analisis_atraso_por_col(df,'OPERA').head(10)"
   ]
  },
  {
   "cell_type": "markdown",
   "metadata": {},
   "source": [
    "Las Aerolineas que mayor n° de vuelos operan son LATAM y Sky Airline (ambas representan un 81% del total de vuelos). Esto tiene sentido ya que son aerolineas locales de SCL - el origen de todos los vuelos del dataset. \n",
    "Después le siguen Aerolineas Argentinas, Copa Air, Latin American Wings, Avianca, Jetmar SPA, Gol Trans y American Airlines - representando en total casi un 95% de vuelos. \n",
    "\n",
    "Cabe resaltar que del total de vuelos atrasados, un 95% de los vuelos son llevados a cabo por estas mismas aerolineas. Estas son las aerolineas de mayor relevancia en nuestro caso. \n",
    "\n",
    "La columna 'OPERA' es una variable categórica, por lo que para incluir esto al modelo tenemos que agregarla como variables dummies. Para no agregar demasiadas variables al modelo y agregar ruido, vamos a incluir todas las aerolineas con menos vuelos (operados y atrasados) en una dummy que sea 'otro', para así dejar las aerolineas más importantes. "
   ]
  },
  {
   "cell_type": "markdown",
   "metadata": {},
   "source": [
    "##### Emp-I: código de aerolinea del vuelo programado"
   ]
  },
  {
   "cell_type": "code",
   "execution_count": 49,
   "metadata": {},
   "outputs": [
    {
     "data": {
      "text/html": [
       "<div>\n",
       "<style scoped>\n",
       "    .dataframe tbody tr th:only-of-type {\n",
       "        vertical-align: middle;\n",
       "    }\n",
       "\n",
       "    .dataframe tbody tr th {\n",
       "        vertical-align: top;\n",
       "    }\n",
       "\n",
       "    .dataframe thead th {\n",
       "        text-align: right;\n",
       "    }\n",
       "</style>\n",
       "<table border=\"1\" class=\"dataframe\">\n",
       "  <thead>\n",
       "    <tr style=\"text-align: right;\">\n",
       "      <th></th>\n",
       "      <th>Emp-I</th>\n",
       "      <th>%_atrasados_de_total_atrasados</th>\n",
       "      <th>%_de_total_vuelos</th>\n",
       "      <th>%_atrasados_por_Emp-I</th>\n",
       "      <th>cumsum_total_vuelos</th>\n",
       "      <th>cumsum_atrasados</th>\n",
       "    </tr>\n",
       "  </thead>\n",
       "  <tbody>\n",
       "    <tr>\n",
       "      <th>17</th>\n",
       "      <td>LAN</td>\n",
       "      <td>0.511574</td>\n",
       "      <td>0.551432</td>\n",
       "      <td>0.067371</td>\n",
       "      <td>0.551432</td>\n",
       "      <td>0.511574</td>\n",
       "    </tr>\n",
       "    <tr>\n",
       "      <th>27</th>\n",
       "      <td>SKU</td>\n",
       "      <td>0.201364</td>\n",
       "      <td>0.209630</td>\n",
       "      <td>0.456637</td>\n",
       "      <td>0.761062</td>\n",
       "      <td>0.712938</td>\n",
       "    </tr>\n",
       "    <tr>\n",
       "      <th>28</th>\n",
       "      <td>TAM</td>\n",
       "      <td>0.061836</td>\n",
       "      <td>0.044703</td>\n",
       "      <td>0.083799</td>\n",
       "      <td>0.805765</td>\n",
       "      <td>0.774774</td>\n",
       "    </tr>\n",
       "    <tr>\n",
       "      <th>4</th>\n",
       "      <td>ARG</td>\n",
       "      <td>0.037102</td>\n",
       "      <td>0.028575</td>\n",
       "      <td>0.028490</td>\n",
       "      <td>0.834340</td>\n",
       "      <td>0.811876</td>\n",
       "    </tr>\n",
       "    <tr>\n",
       "      <th>9</th>\n",
       "      <td>CMP</td>\n",
       "      <td>0.009196</td>\n",
       "      <td>0.027124</td>\n",
       "      <td>0.240123</td>\n",
       "      <td>0.861464</td>\n",
       "      <td>0.821072</td>\n",
       "    </tr>\n",
       "    <tr>\n",
       "      <th>19</th>\n",
       "      <td>LAW</td>\n",
       "      <td>0.050896</td>\n",
       "      <td>0.023077</td>\n",
       "      <td>0.202703</td>\n",
       "      <td>0.884541</td>\n",
       "      <td>0.871968</td>\n",
       "    </tr>\n",
       "    <tr>\n",
       "      <th>6</th>\n",
       "      <td>AVA</td>\n",
       "      <td>0.024259</td>\n",
       "      <td>0.016890</td>\n",
       "      <td>0.265625</td>\n",
       "      <td>0.901431</td>\n",
       "      <td>0.896226</td>\n",
       "    </tr>\n",
       "    <tr>\n",
       "      <th>14</th>\n",
       "      <td>JAT</td>\n",
       "      <td>0.015538</td>\n",
       "      <td>0.016054</td>\n",
       "      <td>0.111969</td>\n",
       "      <td>0.917485</td>\n",
       "      <td>0.911765</td>\n",
       "    </tr>\n",
       "    <tr>\n",
       "      <th>12</th>\n",
       "      <td>GLO</td>\n",
       "      <td>0.022752</td>\n",
       "      <td>0.011817</td>\n",
       "      <td>0.141463</td>\n",
       "      <td>0.929302</td>\n",
       "      <td>0.934517</td>\n",
       "    </tr>\n",
       "    <tr>\n",
       "      <th>0</th>\n",
       "      <td>AAL</td>\n",
       "      <td>0.004043</td>\n",
       "      <td>0.011099</td>\n",
       "      <td>0.062703</td>\n",
       "      <td>0.940401</td>\n",
       "      <td>0.938560</td>\n",
       "    </tr>\n",
       "  </tbody>\n",
       "</table>\n",
       "</div>"
      ],
      "text/plain": [
       "   Emp-I  %_atrasados_de_total_atrasados  %_de_total_vuelos  \\\n",
       "17   LAN                        0.511574           0.551432   \n",
       "27   SKU                        0.201364           0.209630   \n",
       "28   TAM                        0.061836           0.044703   \n",
       "4    ARG                        0.037102           0.028575   \n",
       "9    CMP                        0.009196           0.027124   \n",
       "19   LAW                        0.050896           0.023077   \n",
       "6    AVA                        0.024259           0.016890   \n",
       "14   JAT                        0.015538           0.016054   \n",
       "12   GLO                        0.022752           0.011817   \n",
       "0    AAL                        0.004043           0.011099   \n",
       "\n",
       "    %_atrasados_por_Emp-I  cumsum_total_vuelos  cumsum_atrasados  \n",
       "17               0.067371             0.551432          0.511574  \n",
       "27               0.456637             0.761062          0.712938  \n",
       "28               0.083799             0.805765          0.774774  \n",
       "4                0.028490             0.834340          0.811876  \n",
       "9                0.240123             0.861464          0.821072  \n",
       "19               0.202703             0.884541          0.871968  \n",
       "6                0.265625             0.901431          0.896226  \n",
       "14               0.111969             0.917485          0.911765  \n",
       "12               0.141463             0.929302          0.934517  \n",
       "0                0.062703             0.940401          0.938560  "
      ]
     },
     "execution_count": 49,
     "metadata": {},
     "output_type": "execute_result"
    }
   ],
   "source": [
    "analisis_atraso_por_col(df,'Emp-I').head(10)"
   ]
  },
  {
   "cell_type": "markdown",
   "metadata": {},
   "source": [
    "Podemos ver que Emp-I y OPERA representan lo mismo - están altamente correlacionadas. Decidimos descartar 'Emp-I' \n",
    "\n",
    "Las diferencias entre Emp-I y OPERA se deben a que una aerolinea en OPERA puede incluir varios Emp-I (códigos de aerolinea): por ejemplo, Grupo LATAM incluye 'LAN', 'TAM', 'LAP', 'LXP', 'DSM', 'LPE', 'LNE'"
   ]
  },
  {
   "cell_type": "code",
   "execution_count": 50,
   "metadata": {},
   "outputs": [],
   "source": [
    "dropcol(df, 'Emp-I')"
   ]
  },
  {
   "cell_type": "markdown",
   "metadata": {},
   "source": [
    "##### Destino: SIGLADES y Des-O"
   ]
  },
  {
   "cell_type": "markdown",
   "metadata": {},
   "source": [
    "Ambas variables se refieren al destino del vuelo. \n",
    "\n",
    "Des-O es el código de ciudad de destino del vuelo y SIGLADES es el nombre de la ciudad de destino. \n"
   ]
  },
  {
   "cell_type": "code",
   "execution_count": 51,
   "metadata": {},
   "outputs": [
    {
     "data": {
      "text/html": [
       "<div>\n",
       "<style scoped>\n",
       "    .dataframe tbody tr th:only-of-type {\n",
       "        vertical-align: middle;\n",
       "    }\n",
       "\n",
       "    .dataframe tbody tr th {\n",
       "        vertical-align: top;\n",
       "    }\n",
       "\n",
       "    .dataframe thead th {\n",
       "        text-align: right;\n",
       "    }\n",
       "</style>\n",
       "<table border=\"1\" class=\"dataframe\">\n",
       "  <thead>\n",
       "    <tr style=\"text-align: right;\">\n",
       "      <th></th>\n",
       "      <th>Des-O</th>\n",
       "      <th>%_atrasados_de_total_atrasados</th>\n",
       "      <th>%_de_total_vuelos</th>\n",
       "      <th>%_atrasados_por_Des-O</th>\n",
       "      <th>cumsum_total_vuelos</th>\n",
       "      <th>cumsum_atrasados</th>\n",
       "    </tr>\n",
       "  </thead>\n",
       "  <tbody>\n",
       "    <tr>\n",
       "      <th>40</th>\n",
       "      <td>SCFA</td>\n",
       "      <td>0.067148</td>\n",
       "      <td>0.084831</td>\n",
       "      <td>0.314488</td>\n",
       "      <td>0.084831</td>\n",
       "      <td>0.067148</td>\n",
       "    </tr>\n",
       "    <tr>\n",
       "      <th>57</th>\n",
       "      <td>SPJC</td>\n",
       "      <td>0.096242</td>\n",
       "      <td>0.077266</td>\n",
       "      <td>0.141463</td>\n",
       "      <td>0.162097</td>\n",
       "      <td>0.163390</td>\n",
       "    </tr>\n",
       "    <tr>\n",
       "      <th>37</th>\n",
       "      <td>SCCF</td>\n",
       "      <td>0.049865</td>\n",
       "      <td>0.075448</td>\n",
       "      <td>0.000000</td>\n",
       "      <td>0.237545</td>\n",
       "      <td>0.213255</td>\n",
       "    </tr>\n",
       "    <tr>\n",
       "      <th>48</th>\n",
       "      <td>SCTE</td>\n",
       "      <td>0.058189</td>\n",
       "      <td>0.063880</td>\n",
       "      <td>0.058659</td>\n",
       "      <td>0.301425</td>\n",
       "      <td>0.271444</td>\n",
       "    </tr>\n",
       "    <tr>\n",
       "      <th>41</th>\n",
       "      <td>SCIE</td>\n",
       "      <td>0.049390</td>\n",
       "      <td>0.058543</td>\n",
       "      <td>0.070028</td>\n",
       "      <td>0.359968</td>\n",
       "      <td>0.320834</td>\n",
       "    </tr>\n",
       "    <tr>\n",
       "      <th>39</th>\n",
       "      <td>SCDA</td>\n",
       "      <td>0.050737</td>\n",
       "      <td>0.054937</td>\n",
       "      <td>0.000000</td>\n",
       "      <td>0.414905</td>\n",
       "      <td>0.371571</td>\n",
       "    </tr>\n",
       "    <tr>\n",
       "      <th>33</th>\n",
       "      <td>SBGR</td>\n",
       "      <td>0.069843</td>\n",
       "      <td>0.052327</td>\n",
       "      <td>0.050898</td>\n",
       "      <td>0.467232</td>\n",
       "      <td>0.441414</td>\n",
       "    </tr>\n",
       "    <tr>\n",
       "      <th>22</th>\n",
       "      <td>SAEZ</td>\n",
       "      <td>0.062867</td>\n",
       "      <td>0.047518</td>\n",
       "      <td>0.214660</td>\n",
       "      <td>0.514749</td>\n",
       "      <td>0.504281</td>\n",
       "    </tr>\n",
       "    <tr>\n",
       "      <th>20</th>\n",
       "      <td>SABE</td>\n",
       "      <td>0.065562</td>\n",
       "      <td>0.045363</td>\n",
       "      <td>0.251613</td>\n",
       "      <td>0.560112</td>\n",
       "      <td>0.569843</td>\n",
       "    </tr>\n",
       "    <tr>\n",
       "      <th>46</th>\n",
       "      <td>SCQP</td>\n",
       "      <td>0.031949</td>\n",
       "      <td>0.037959</td>\n",
       "      <td>0.264706</td>\n",
       "      <td>0.598071</td>\n",
       "      <td>0.601792</td>\n",
       "    </tr>\n",
       "  </tbody>\n",
       "</table>\n",
       "</div>"
      ],
      "text/plain": [
       "   Des-O  %_atrasados_de_total_atrasados  %_de_total_vuelos  \\\n",
       "40  SCFA                        0.067148           0.084831   \n",
       "57  SPJC                        0.096242           0.077266   \n",
       "37  SCCF                        0.049865           0.075448   \n",
       "48  SCTE                        0.058189           0.063880   \n",
       "41  SCIE                        0.049390           0.058543   \n",
       "39  SCDA                        0.050737           0.054937   \n",
       "33  SBGR                        0.069843           0.052327   \n",
       "22  SAEZ                        0.062867           0.047518   \n",
       "20  SABE                        0.065562           0.045363   \n",
       "46  SCQP                        0.031949           0.037959   \n",
       "\n",
       "    %_atrasados_por_Des-O  cumsum_total_vuelos  cumsum_atrasados  \n",
       "40               0.314488             0.084831          0.067148  \n",
       "57               0.141463             0.162097          0.163390  \n",
       "37               0.000000             0.237545          0.213255  \n",
       "48               0.058659             0.301425          0.271444  \n",
       "41               0.070028             0.359968          0.320834  \n",
       "39               0.000000             0.414905          0.371571  \n",
       "33               0.050898             0.467232          0.441414  \n",
       "22               0.214660             0.514749          0.504281  \n",
       "20               0.251613             0.560112          0.569843  \n",
       "46               0.264706             0.598071          0.601792  "
      ]
     },
     "execution_count": 51,
     "metadata": {},
     "output_type": "execute_result"
    }
   ],
   "source": [
    "analisis_atraso_por_col(df,'Des-O').head(10)"
   ]
  },
  {
   "cell_type": "code",
   "execution_count": 52,
   "metadata": {},
   "outputs": [
    {
     "data": {
      "text/html": [
       "<div>\n",
       "<style scoped>\n",
       "    .dataframe tbody tr th:only-of-type {\n",
       "        vertical-align: middle;\n",
       "    }\n",
       "\n",
       "    .dataframe tbody tr th {\n",
       "        vertical-align: top;\n",
       "    }\n",
       "\n",
       "    .dataframe thead th {\n",
       "        text-align: right;\n",
       "    }\n",
       "</style>\n",
       "<table border=\"1\" class=\"dataframe\">\n",
       "  <thead>\n",
       "    <tr style=\"text-align: right;\">\n",
       "      <th></th>\n",
       "      <th>SIGLADES</th>\n",
       "      <th>%_atrasados_de_total_atrasados</th>\n",
       "      <th>%_de_total_vuelos</th>\n",
       "      <th>%_atrasados_por_SIGLADES</th>\n",
       "      <th>cumsum_total_vuelos</th>\n",
       "      <th>cumsum_atrasados</th>\n",
       "    </tr>\n",
       "  </thead>\n",
       "  <tbody>\n",
       "    <tr>\n",
       "      <th>8</th>\n",
       "      <td>Buenos Aires</td>\n",
       "      <td>0.128429</td>\n",
       "      <td>0.092880</td>\n",
       "      <td>0.146388</td>\n",
       "      <td>0.092880</td>\n",
       "      <td>0.128429</td>\n",
       "    </tr>\n",
       "    <tr>\n",
       "      <th>0</th>\n",
       "      <td>Antofagasta</td>\n",
       "      <td>0.067148</td>\n",
       "      <td>0.084831</td>\n",
       "      <td>0.135468</td>\n",
       "      <td>0.177712</td>\n",
       "      <td>0.195576</td>\n",
       "    </tr>\n",
       "    <tr>\n",
       "      <th>28</th>\n",
       "      <td>Lima</td>\n",
       "      <td>0.096242</td>\n",
       "      <td>0.077266</td>\n",
       "      <td>0.284483</td>\n",
       "      <td>0.254978</td>\n",
       "      <td>0.291819</td>\n",
       "    </tr>\n",
       "    <tr>\n",
       "      <th>9</th>\n",
       "      <td>Calama</td>\n",
       "      <td>0.049865</td>\n",
       "      <td>0.075448</td>\n",
       "      <td>0.058659</td>\n",
       "      <td>0.330425</td>\n",
       "      <td>0.341684</td>\n",
       "    </tr>\n",
       "    <tr>\n",
       "      <th>42</th>\n",
       "      <td>Puerto Montt</td>\n",
       "      <td>0.058189</td>\n",
       "      <td>0.063880</td>\n",
       "      <td>0.373961</td>\n",
       "      <td>0.394305</td>\n",
       "      <td>0.399873</td>\n",
       "    </tr>\n",
       "    <tr>\n",
       "      <th>16</th>\n",
       "      <td>Concepcion</td>\n",
       "      <td>0.049390</td>\n",
       "      <td>0.058543</td>\n",
       "      <td>0.146603</td>\n",
       "      <td>0.452849</td>\n",
       "      <td>0.449263</td>\n",
       "    </tr>\n",
       "    <tr>\n",
       "      <th>24</th>\n",
       "      <td>Iquique</td>\n",
       "      <td>0.050737</td>\n",
       "      <td>0.054937</td>\n",
       "      <td>0.500000</td>\n",
       "      <td>0.507785</td>\n",
       "      <td>0.500000</td>\n",
       "    </tr>\n",
       "    <tr>\n",
       "      <th>54</th>\n",
       "      <td>Sao Paulo</td>\n",
       "      <td>0.069843</td>\n",
       "      <td>0.052327</td>\n",
       "      <td>0.258728</td>\n",
       "      <td>0.560112</td>\n",
       "      <td>0.569843</td>\n",
       "    </tr>\n",
       "    <tr>\n",
       "      <th>56</th>\n",
       "      <td>Temuco</td>\n",
       "      <td>0.031949</td>\n",
       "      <td>0.037959</td>\n",
       "      <td>0.255722</td>\n",
       "      <td>0.598071</td>\n",
       "      <td>0.601792</td>\n",
       "    </tr>\n",
       "    <tr>\n",
       "      <th>1</th>\n",
       "      <td>Arica</td>\n",
       "      <td>0.026161</td>\n",
       "      <td>0.035715</td>\n",
       "      <td>0.122231</td>\n",
       "      <td>0.633786</td>\n",
       "      <td>0.627953</td>\n",
       "    </tr>\n",
       "    <tr>\n",
       "      <th>27</th>\n",
       "      <td>La Serena</td>\n",
       "      <td>0.030918</td>\n",
       "      <td>0.035334</td>\n",
       "      <td>0.190476</td>\n",
       "      <td>0.669120</td>\n",
       "      <td>0.658871</td>\n",
       "    </tr>\n",
       "    <tr>\n",
       "      <th>45</th>\n",
       "      <td>Punta Arenas</td>\n",
       "      <td>0.025686</td>\n",
       "      <td>0.030862</td>\n",
       "      <td>0.076596</td>\n",
       "      <td>0.699982</td>\n",
       "      <td>0.684557</td>\n",
       "    </tr>\n",
       "    <tr>\n",
       "      <th>14</th>\n",
       "      <td>Ciudad de Panama</td>\n",
       "      <td>0.009196</td>\n",
       "      <td>0.027124</td>\n",
       "      <td>0.000000</td>\n",
       "      <td>0.727106</td>\n",
       "      <td>0.693753</td>\n",
       "    </tr>\n",
       "    <tr>\n",
       "      <th>17</th>\n",
       "      <td>Copiapo</td>\n",
       "      <td>0.019185</td>\n",
       "      <td>0.026097</td>\n",
       "      <td>0.094286</td>\n",
       "      <td>0.753204</td>\n",
       "      <td>0.712938</td>\n",
       "    </tr>\n",
       "    <tr>\n",
       "      <th>33</th>\n",
       "      <td>Mendoza</td>\n",
       "      <td>0.035120</td>\n",
       "      <td>0.023825</td>\n",
       "      <td>0.062703</td>\n",
       "      <td>0.777028</td>\n",
       "      <td>0.748058</td>\n",
       "    </tr>\n",
       "    <tr>\n",
       "      <th>7</th>\n",
       "      <td>Bogota</td>\n",
       "      <td>0.032900</td>\n",
       "      <td>0.023517</td>\n",
       "      <td>0.000000</td>\n",
       "      <td>0.800545</td>\n",
       "      <td>0.780958</td>\n",
       "    </tr>\n",
       "    <tr>\n",
       "      <th>49</th>\n",
       "      <td>Rio de Janeiro</td>\n",
       "      <td>0.032107</td>\n",
       "      <td>0.021039</td>\n",
       "      <td>0.156023</td>\n",
       "      <td>0.821585</td>\n",
       "      <td>0.813065</td>\n",
       "    </tr>\n",
       "    <tr>\n",
       "      <th>35</th>\n",
       "      <td>Montevideo</td>\n",
       "      <td>0.017441</td>\n",
       "      <td>0.015629</td>\n",
       "      <td>0.135955</td>\n",
       "      <td>0.837214</td>\n",
       "      <td>0.830506</td>\n",
       "    </tr>\n",
       "    <tr>\n",
       "      <th>18</th>\n",
       "      <td>Cordoba</td>\n",
       "      <td>0.024417</td>\n",
       "      <td>0.014999</td>\n",
       "      <td>0.301075</td>\n",
       "      <td>0.852212</td>\n",
       "      <td>0.854923</td>\n",
       "    </tr>\n",
       "    <tr>\n",
       "      <th>34</th>\n",
       "      <td>Miami</td>\n",
       "      <td>0.015380</td>\n",
       "      <td>0.014896</td>\n",
       "      <td>0.000000</td>\n",
       "      <td>0.867108</td>\n",
       "      <td>0.870303</td>\n",
       "    </tr>\n",
       "  </tbody>\n",
       "</table>\n",
       "</div>"
      ],
      "text/plain": [
       "            SIGLADES  %_atrasados_de_total_atrasados  %_de_total_vuelos  \\\n",
       "8       Buenos Aires                        0.128429           0.092880   \n",
       "0        Antofagasta                        0.067148           0.084831   \n",
       "28              Lima                        0.096242           0.077266   \n",
       "9             Calama                        0.049865           0.075448   \n",
       "42      Puerto Montt                        0.058189           0.063880   \n",
       "16        Concepcion                        0.049390           0.058543   \n",
       "24           Iquique                        0.050737           0.054937   \n",
       "54         Sao Paulo                        0.069843           0.052327   \n",
       "56            Temuco                        0.031949           0.037959   \n",
       "1              Arica                        0.026161           0.035715   \n",
       "27         La Serena                        0.030918           0.035334   \n",
       "45      Punta Arenas                        0.025686           0.030862   \n",
       "14  Ciudad de Panama                        0.009196           0.027124   \n",
       "17           Copiapo                        0.019185           0.026097   \n",
       "33           Mendoza                        0.035120           0.023825   \n",
       "7             Bogota                        0.032900           0.023517   \n",
       "49    Rio de Janeiro                        0.032107           0.021039   \n",
       "35        Montevideo                        0.017441           0.015629   \n",
       "18           Cordoba                        0.024417           0.014999   \n",
       "34             Miami                        0.015380           0.014896   \n",
       "\n",
       "    %_atrasados_por_SIGLADES  cumsum_total_vuelos  cumsum_atrasados  \n",
       "8                   0.146388             0.092880          0.128429  \n",
       "0                   0.135468             0.177712          0.195576  \n",
       "28                  0.284483             0.254978          0.291819  \n",
       "9                   0.058659             0.330425          0.341684  \n",
       "42                  0.373961             0.394305          0.399873  \n",
       "16                  0.146603             0.452849          0.449263  \n",
       "24                  0.500000             0.507785          0.500000  \n",
       "54                  0.258728             0.560112          0.569843  \n",
       "56                  0.255722             0.598071          0.601792  \n",
       "1                   0.122231             0.633786          0.627953  \n",
       "27                  0.190476             0.669120          0.658871  \n",
       "45                  0.076596             0.699982          0.684557  \n",
       "14                  0.000000             0.727106          0.693753  \n",
       "17                  0.094286             0.753204          0.712938  \n",
       "33                  0.062703             0.777028          0.748058  \n",
       "7                   0.000000             0.800545          0.780958  \n",
       "49                  0.156023             0.821585          0.813065  \n",
       "35                  0.135955             0.837214          0.830506  \n",
       "18                  0.301075             0.852212          0.854923  \n",
       "34                  0.000000             0.867108          0.870303  "
      ]
     },
     "execution_count": 52,
     "metadata": {},
     "output_type": "execute_result"
    }
   ],
   "source": [
    "analisis_atraso_por_col(df,'SIGLADES').head(20)"
   ]
  },
  {
   "cell_type": "code",
   "execution_count": 53,
   "metadata": {},
   "outputs": [
    {
     "name": "stdout",
     "output_type": "stream",
     "text": [
      "Des-O tiene 63 valores únicos y SIGLADES tiene 62 valores únicos\n"
     ]
    }
   ],
   "source": [
    "DesOunique =df['Des-O'].nunique()\n",
    "SIGLADESunique =df['SIGLADES'].nunique()\n",
    "print(f'Des-O tiene {DesOunique} valores únicos y SIGLADES tiene {SIGLADESunique} valores únicos')"
   ]
  },
  {
   "cell_type": "markdown",
   "metadata": {},
   "source": [
    "Decidimos descartar la variable 'Des-O' ya que ambas variables hablan sobre lo mismo y están altamente correlacionadas"
   ]
  },
  {
   "cell_type": "code",
   "execution_count": 54,
   "metadata": {},
   "outputs": [],
   "source": [
    "dropcol(df,'Des-O')"
   ]
  },
  {
   "cell_type": "markdown",
   "metadata": {},
   "source": [
    "#### Conclusiones\n",
    "\n",
    "Los datos de las variables 'OPERA' y 'SIGLADES' están muy desbalanceados, ya que la mayoría de los datos se agrupan en unas pocas aerolineas y destinos. Para el resto de las variables, se podría decir que lo datos están balanceados. "
   ]
  },
  {
   "cell_type": "markdown",
   "metadata": {},
   "source": [
    "## Dummyfing or Labeling Categorical Variables"
   ]
  },
  {
   "cell_type": "code",
   "execution_count": 55,
   "metadata": {},
   "outputs": [
    {
     "name": "stdout",
     "output_type": "stream",
     "text": [
      "Las variables categóricas que hay en el dataset son:\n",
      "['DIANOM', 'TIPOVUELO', 'OPERA', 'SIGLADES', 'periodo_dia']\n"
     ]
    }
   ],
   "source": [
    "print('Las variables categóricas que hay en el dataset son:')\n",
    "categorical = df.select_dtypes(include=['category', 'object']).columns.to_list()\n",
    "print(categorical)"
   ]
  },
  {
   "cell_type": "markdown",
   "metadata": {},
   "source": [
    "Además, la variable MES está puesta como variable numérica pero en realidad es una variable categórica. "
   ]
  },
  {
   "cell_type": "code",
   "execution_count": 56,
   "metadata": {},
   "outputs": [],
   "source": [
    "enc_dict_MES = {1: 'Enero',\n",
    "    2: 'Febrero',\n",
    "    3: 'Marzo',\n",
    "    4: 'Abril',\n",
    "    5: 'Mayo',\n",
    "    6: 'Junio',\n",
    "    7: 'Julio',\n",
    "    8: 'Agosto',\n",
    "    9: 'Septiembre',\n",
    "    10: 'Octubre',\n",
    "    11: 'Noviembre',\n",
    "    12: 'Diciembre',\n",
    "}\n",
    "df['MES'] = df['MES'].map(enc_dict_MES)  "
   ]
  },
  {
   "cell_type": "code",
   "execution_count": 57,
   "metadata": {},
   "outputs": [
    {
     "name": "stdout",
     "output_type": "stream",
     "text": [
      "['MES', 'DIANOM', 'TIPOVUELO', 'OPERA', 'SIGLADES', 'periodo_dia']\n"
     ]
    }
   ],
   "source": [
    "categorical = df.select_dtypes(include=['category', 'object']).columns.to_list()\n",
    "print(categorical)"
   ]
  },
  {
   "cell_type": "markdown",
   "metadata": {},
   "source": [
    "Para incluir las variables categóricas al modelo, hay que dummificarlas o hacer label encoder. \n",
    "\n",
    "Cuando la variable categórica sea ordinal, vamos a usar LabelEncoder. Por el contrario usaremos OneHotEncoding. Esto lo que hace es aumentar considerablemente el número de columnas del dataset, metiendo más 'ruido' al modelo.\n",
    "\n",
    "Vamos a observar primero cuantos valores únicos hay por cada variable categórica. "
   ]
  },
  {
   "cell_type": "code",
   "execution_count": 58,
   "metadata": {},
   "outputs": [
    {
     "data": {
      "text/plain": [
       "<AxesSubplot:>"
      ]
     },
     "execution_count": 58,
     "metadata": {},
     "output_type": "execute_result"
    },
    {
     "data": {
      "image/png": "[encoded data removed]",
      "text/plain": [
       "<Figure size 720x360 with 1 Axes>"
      ]
     },
     "metadata": {
      "needs_background": "light"
     },
     "output_type": "display_data"
    }
   ],
   "source": [
    "df[categorical].nunique().sort_values(ascending=False).plot.bar(figsize=(10,5))"
   ]
  },
  {
   "cell_type": "markdown",
   "metadata": {},
   "source": [
    "Para la variable 'TIPOVUELO' hay solamente 2 valores - N o I. \n",
    "\n",
    "Vamos a hacer una sola columna: TIPOVUELO_N donde es 0 si el vuelo es Internacional, y 1 si es Nacional. \n",
    "LabelEncoder de sklearn, nos va a hacer el encoder según el orden en el que aparecen los datos. El primer dato que hay es de un vuelo internacional, con lo que TIPOVUELO_N será igual a 0. "
   ]
  },
  {
   "cell_type": "code",
   "execution_count": 59,
   "metadata": {},
   "outputs": [],
   "source": [
    "le = preprocessing.LabelEncoder()\n",
    "df['TIPOVUELO_I'] = le.fit_transform(df['TIPOVUELO'])\n",
    "dropcol(df, 'TIPOVUELO')"
   ]
  },
  {
   "cell_type": "markdown",
   "metadata": {},
   "source": [
    "Analizar variables ordinales: "
   ]
  },
  {
   "cell_type": "code",
   "execution_count": 60,
   "metadata": {},
   "outputs": [
    {
     "data": {
      "text/plain": [
       "Index(['MES', 'DIANOM', 'OPERA', 'SIGLADES', 'dif_min', 'atraso_15',\n",
       "       'temporada_alta', 'periodo_dia', 'cambio_aerolinea', 'cambio_num_vuelo',\n",
       "       'same_destination', 'TIPOVUELO_I'],\n",
       "      dtype='object')"
      ]
     },
     "execution_count": 60,
     "metadata": {},
     "output_type": "execute_result"
    }
   ],
   "source": [
    "df.columns"
   ]
  },
  {
   "cell_type": "code",
   "execution_count": 61,
   "metadata": {},
   "outputs": [
    {
     "data": {
      "text/html": [
       "<div>\n",
       "<style scoped>\n",
       "    .dataframe tbody tr th:only-of-type {\n",
       "        vertical-align: middle;\n",
       "    }\n",
       "\n",
       "    .dataframe tbody tr th {\n",
       "        vertical-align: top;\n",
       "    }\n",
       "\n",
       "    .dataframe thead th {\n",
       "        text-align: right;\n",
       "    }\n",
       "</style>\n",
       "<table border=\"1\" class=\"dataframe\">\n",
       "  <thead>\n",
       "    <tr style=\"text-align: right;\">\n",
       "      <th></th>\n",
       "      <th>MES</th>\n",
       "      <th>DIANOM</th>\n",
       "      <th>OPERA</th>\n",
       "      <th>SIGLADES</th>\n",
       "      <th>dif_min</th>\n",
       "      <th>atraso_15</th>\n",
       "      <th>temporada_alta</th>\n",
       "      <th>periodo_dia</th>\n",
       "      <th>cambio_aerolinea</th>\n",
       "      <th>cambio_num_vuelo</th>\n",
       "      <th>same_destination</th>\n",
       "      <th>TIPOVUELO_I</th>\n",
       "    </tr>\n",
       "  </thead>\n",
       "  <tbody>\n",
       "    <tr>\n",
       "      <th>0</th>\n",
       "      <td>Enero</td>\n",
       "      <td>Domingo</td>\n",
       "      <td>American Airlines</td>\n",
       "      <td>Miami</td>\n",
       "      <td>3.0</td>\n",
       "      <td>0</td>\n",
       "      <td>0</td>\n",
       "      <td>noche</td>\n",
       "      <td>0</td>\n",
       "      <td>0</td>\n",
       "      <td>1</td>\n",
       "      <td>0</td>\n",
       "    </tr>\n",
       "    <tr>\n",
       "      <th>1</th>\n",
       "      <td>Enero</td>\n",
       "      <td>Lunes</td>\n",
       "      <td>American Airlines</td>\n",
       "      <td>Miami</td>\n",
       "      <td>9.0</td>\n",
       "      <td>0</td>\n",
       "      <td>0</td>\n",
       "      <td>noche</td>\n",
       "      <td>0</td>\n",
       "      <td>0</td>\n",
       "      <td>1</td>\n",
       "      <td>0</td>\n",
       "    </tr>\n",
       "    <tr>\n",
       "      <th>2</th>\n",
       "      <td>Enero</td>\n",
       "      <td>Martes</td>\n",
       "      <td>American Airlines</td>\n",
       "      <td>Miami</td>\n",
       "      <td>9.0</td>\n",
       "      <td>0</td>\n",
       "      <td>0</td>\n",
       "      <td>noche</td>\n",
       "      <td>0</td>\n",
       "      <td>0</td>\n",
       "      <td>1</td>\n",
       "      <td>0</td>\n",
       "    </tr>\n",
       "    <tr>\n",
       "      <th>3</th>\n",
       "      <td>Enero</td>\n",
       "      <td>Miercoles</td>\n",
       "      <td>American Airlines</td>\n",
       "      <td>Miami</td>\n",
       "      <td>3.0</td>\n",
       "      <td>0</td>\n",
       "      <td>0</td>\n",
       "      <td>noche</td>\n",
       "      <td>0</td>\n",
       "      <td>0</td>\n",
       "      <td>1</td>\n",
       "      <td>0</td>\n",
       "    </tr>\n",
       "    <tr>\n",
       "      <th>4</th>\n",
       "      <td>Enero</td>\n",
       "      <td>Jueves</td>\n",
       "      <td>American Airlines</td>\n",
       "      <td>Miami</td>\n",
       "      <td>-2.0</td>\n",
       "      <td>0</td>\n",
       "      <td>0</td>\n",
       "      <td>noche</td>\n",
       "      <td>0</td>\n",
       "      <td>0</td>\n",
       "      <td>1</td>\n",
       "      <td>0</td>\n",
       "    </tr>\n",
       "  </tbody>\n",
       "</table>\n",
       "</div>"
      ],
      "text/plain": [
       "     MES     DIANOM              OPERA SIGLADES  dif_min  atraso_15  \\\n",
       "0  Enero    Domingo  American Airlines    Miami      3.0          0   \n",
       "1  Enero      Lunes  American Airlines    Miami      9.0          0   \n",
       "2  Enero     Martes  American Airlines    Miami      9.0          0   \n",
       "3  Enero  Miercoles  American Airlines    Miami      3.0          0   \n",
       "4  Enero     Jueves  American Airlines    Miami     -2.0          0   \n",
       "\n",
       "   temporada_alta periodo_dia  cambio_aerolinea  cambio_num_vuelo  \\\n",
       "0               0       noche                 0                 0   \n",
       "1               0       noche                 0                 0   \n",
       "2               0       noche                 0                 0   \n",
       "3               0       noche                 0                 0   \n",
       "4               0       noche                 0                 0   \n",
       "\n",
       "   same_destination  TIPOVUELO_I  \n",
       "0                 1            0  \n",
       "1                 1            0  \n",
       "2                 1            0  \n",
       "3                 1            0  \n",
       "4                 1            0  "
      ]
     },
     "execution_count": 61,
     "metadata": {},
     "output_type": "execute_result"
    }
   ],
   "source": [
    "df.head(5)"
   ]
  },
  {
   "cell_type": "code",
   "execution_count": 62,
   "metadata": {},
   "outputs": [],
   "source": [
    "ordinal = ['periodo_dia'] \n",
    "categorical = ['OPERA','SIGLADES', 'DIANOM', 'MES']"
   ]
  },
  {
   "cell_type": "markdown",
   "metadata": {},
   "source": [
    "Para las columnas ordinales, vamos a usar Label Encoder. En este caso vamos a \"forzar\" el encoder para ponerlo en el orden que tiene sentido."
   ]
  },
  {
   "cell_type": "code",
   "execution_count": 63,
   "metadata": {},
   "outputs": [],
   "source": [
    "# columna periodo_dia\n",
    "enc_dict_periododia = {'mañana':0,\n",
    "            'tarde':1,\n",
    "            'noche':2}\n",
    "df['periodo_dia'] = df['periodo_dia'].map(enc_dict_periododia)  "
   ]
  },
  {
   "cell_type": "markdown",
   "metadata": {},
   "source": [
    "Para la variable 'OPERA' vimos que Las Aerolineas LATAM, Sky Airline, Aerolineas Argentinas, Copa Air, Latin American Wings, Avianca, JetSmart SPA, Gol Trans y American Airlines representan un 95% de los vuelos. \n",
    "\n",
    "Para no crear una dummy column por cada variable que hay en 'OPERA' y meter más ruido al modelo, vamos a crear una columna dummy por cada aerolinea que sea main_airline, y el resto de aerolineas las vamos a incluir en otra columna dummy que sea 'Other'"
   ]
  },
  {
   "cell_type": "code",
   "execution_count": 64,
   "metadata": {},
   "outputs": [],
   "source": [
    "main_airlines = ['Grupo LATAM', 'Sky Airline', 'Aerolineas Argentinas', 'Copa Air', 'Latin American Wings', 'Avianca', 'JetSmart SPA', 'Gol Trans', 'American Airlines']\n",
    "\n",
    "df.loc[~df[\"OPERA\"].isin(main_airlines), 'OPERA'] = \"Other\""
   ]
  },
  {
   "cell_type": "code",
   "execution_count": 65,
   "metadata": {},
   "outputs": [
    {
     "data": {
      "text/plain": [
       "Grupo LATAM              40892\n",
       "Sky Airline              14298\n",
       "Other                     3733\n",
       "Aerolineas Argentinas     1949\n",
       "Copa Air                  1850\n",
       "Latin American Wings      1674\n",
       "Avianca                   1152\n",
       "JetSmart SPA              1095\n",
       "Gol Trans                  806\n",
       "American Airlines          757\n",
       "Name: OPERA, dtype: int64"
      ]
     },
     "execution_count": 65,
     "metadata": {},
     "output_type": "execute_result"
    }
   ],
   "source": [
    "df['OPERA'].value_counts()"
   ]
  },
  {
   "cell_type": "markdown",
   "metadata": {},
   "source": [
    "Después de esta transformación, vamos a crear variables dummies para la columna 'OPERA', 'DIANOM' y 'MES'"
   ]
  },
  {
   "cell_type": "code",
   "execution_count": 66,
   "metadata": {},
   "outputs": [],
   "source": [
    "df = DummyCol(df,['OPERA', 'DIANOM', 'MES'])"
   ]
  },
  {
   "cell_type": "code",
   "execution_count": 67,
   "metadata": {},
   "outputs": [
    {
     "data": {
      "text/plain": [
       "Index(['SIGLADES', 'dif_min', 'atraso_15', 'temporada_alta', 'periodo_dia',\n",
       "       'cambio_aerolinea', 'cambio_num_vuelo', 'same_destination',\n",
       "       'TIPOVUELO_I', 'OPERA_Aerolineas Argentinas', 'OPERA_American Airlines',\n",
       "       'OPERA_Avianca', 'OPERA_Copa Air', 'OPERA_Gol Trans',\n",
       "       'OPERA_Grupo LATAM', 'OPERA_JetSmart SPA', 'OPERA_Latin American Wings',\n",
       "       'OPERA_Other', 'OPERA_Sky Airline', 'DIANOM_Domingo', 'DIANOM_Jueves',\n",
       "       'DIANOM_Lunes', 'DIANOM_Martes', 'DIANOM_Miercoles', 'DIANOM_Sabado',\n",
       "       'DIANOM_Viernes', 'MES_Abril', 'MES_Agosto', 'MES_Diciembre',\n",
       "       'MES_Enero', 'MES_Febrero', 'MES_Julio', 'MES_Junio', 'MES_Marzo',\n",
       "       'MES_Mayo', 'MES_Noviembre', 'MES_Octubre', 'MES_Septiembre'],\n",
       "      dtype='object')"
      ]
     },
     "execution_count": 67,
     "metadata": {},
     "output_type": "execute_result"
    }
   ],
   "source": [
    "df.columns"
   ]
  },
  {
   "cell_type": "code",
   "execution_count": 68,
   "metadata": {},
   "outputs": [
    {
     "name": "stdout",
     "output_type": "stream",
     "text": [
      "El total de destinos SIGLADES es de: 62\n",
      "Los destinos principales son : ['Buenos Aires', 'Antofagasta', 'Lima', 'Calama', 'Puerto Montt', 'Concepcion', 'Iquique', 'Sao Paulo', 'Temuco', 'Arica', 'La Serena', 'Punta Arenas', 'Ciudad de Panama', 'Copiapo', 'Mendoza', 'Bogota', 'Rio de Janeiro', 'Montevideo', 'Cordoba', 'Miami', 'Madrid', 'Balmaceda', 'Valdivia', 'Ciudad de Mexico', 'Isla de Pascua', 'Guayaquil', 'Nueva York', 'Auckland N.Z.', 'Paris', 'Atlanta']\n",
      "El total de destino principales es de: 30\n"
     ]
    }
   ],
   "source": [
    "atraso_siglades = analisis_atraso_por_col(df,'SIGLADES')\n",
    "print(f'El total de destinos SIGLADES es de: {len(atraso_siglades)}')\n",
    "\n",
    "# Sacamos la lista de destinos que tienen el 95% de los vuelos. \n",
    "main_SIGLADES = atraso_siglades.loc[(atraso_siglades['cumsum_total_vuelos'] < 0.95)]['SIGLADES'].unique().tolist()\n",
    "\n",
    "print(f'Los destinos principales son : {main_SIGLADES}')\n",
    "\n",
    "print(f'El total de destino principales es de: {len(main_SIGLADES)}')"
   ]
  },
  {
   "cell_type": "code",
   "execution_count": 69,
   "metadata": {},
   "outputs": [],
   "source": [
    "df.loc[~df[\"SIGLADES\"].isin(main_SIGLADES), 'SIGLADES'] = \"Other\""
   ]
  },
  {
   "cell_type": "code",
   "execution_count": 70,
   "metadata": {},
   "outputs": [
    {
     "data": {
      "text/plain": [
       "Buenos Aires        6335\n",
       "Antofagasta         5786\n",
       "Lima                5270\n",
       "Calama              5146\n",
       "Puerto Montt        4357\n",
       "Concepcion          3993\n",
       "Iquique             3747\n",
       "Sao Paulo           3569\n",
       "Other               3544\n",
       "Temuco              2589\n",
       "Arica               2436\n",
       "La Serena           2410\n",
       "Punta Arenas        2105\n",
       "Ciudad de Panama    1850\n",
       "Copiapo             1780\n",
       "Mendoza             1625\n",
       "Bogota              1604\n",
       "Rio de Janeiro      1435\n",
       "Montevideo          1066\n",
       "Cordoba             1023\n",
       "Miami               1016\n",
       "Madrid               894\n",
       "Balmaceda            839\n",
       "Valdivia             753\n",
       "Ciudad de Mexico     700\n",
       "Isla de Pascua       452\n",
       "Guayaquil            422\n",
       "Nueva York           382\n",
       "Auckland N.Z.        361\n",
       "Paris                359\n",
       "Atlanta              358\n",
       "Name: SIGLADES, dtype: int64"
      ]
     },
     "execution_count": 70,
     "metadata": {},
     "output_type": "execute_result"
    }
   ],
   "source": [
    "df['SIGLADES'].value_counts()"
   ]
  },
  {
   "cell_type": "markdown",
   "metadata": {},
   "source": [
    "Con este filtro, lo que conseguimos es disminuir en más de un 50% el número de columnas Dummies. \n",
    "Nos hemos quedado con los destinos que representan un total del 95% de vuelos y de 95% de vuelos atrasados. "
   ]
  },
  {
   "cell_type": "code",
   "execution_count": 71,
   "metadata": {},
   "outputs": [],
   "source": [
    "# creamos las columnas dummies\n",
    "df = DummyCol(df,['SIGLADES'])"
   ]
  },
  {
   "cell_type": "code",
   "execution_count": 72,
   "metadata": {},
   "outputs": [
    {
     "data": {
      "text/html": [
       "<div>\n",
       "<style scoped>\n",
       "    .dataframe tbody tr th:only-of-type {\n",
       "        vertical-align: middle;\n",
       "    }\n",
       "\n",
       "    .dataframe tbody tr th {\n",
       "        vertical-align: top;\n",
       "    }\n",
       "\n",
       "    .dataframe thead th {\n",
       "        text-align: right;\n",
       "    }\n",
       "</style>\n",
       "<table border=\"1\" class=\"dataframe\">\n",
       "  <thead>\n",
       "    <tr style=\"text-align: right;\">\n",
       "      <th></th>\n",
       "      <th>dif_min</th>\n",
       "      <th>atraso_15</th>\n",
       "      <th>temporada_alta</th>\n",
       "      <th>periodo_dia</th>\n",
       "      <th>cambio_aerolinea</th>\n",
       "      <th>cambio_num_vuelo</th>\n",
       "      <th>same_destination</th>\n",
       "      <th>TIPOVUELO_I</th>\n",
       "      <th>OPERA_Aerolineas Argentinas</th>\n",
       "      <th>OPERA_American Airlines</th>\n",
       "      <th>...</th>\n",
       "      <th>SIGLADES_Montevideo</th>\n",
       "      <th>SIGLADES_Nueva York</th>\n",
       "      <th>SIGLADES_Other</th>\n",
       "      <th>SIGLADES_Paris</th>\n",
       "      <th>SIGLADES_Puerto Montt</th>\n",
       "      <th>SIGLADES_Punta Arenas</th>\n",
       "      <th>SIGLADES_Rio de Janeiro</th>\n",
       "      <th>SIGLADES_Sao Paulo</th>\n",
       "      <th>SIGLADES_Temuco</th>\n",
       "      <th>SIGLADES_Valdivia</th>\n",
       "    </tr>\n",
       "  </thead>\n",
       "  <tbody>\n",
       "    <tr>\n",
       "      <th>0</th>\n",
       "      <td>3.0</td>\n",
       "      <td>0</td>\n",
       "      <td>0</td>\n",
       "      <td>2</td>\n",
       "      <td>0</td>\n",
       "      <td>0</td>\n",
       "      <td>1</td>\n",
       "      <td>0</td>\n",
       "      <td>0</td>\n",
       "      <td>1</td>\n",
       "      <td>...</td>\n",
       "      <td>0</td>\n",
       "      <td>0</td>\n",
       "      <td>0</td>\n",
       "      <td>0</td>\n",
       "      <td>0</td>\n",
       "      <td>0</td>\n",
       "      <td>0</td>\n",
       "      <td>0</td>\n",
       "      <td>0</td>\n",
       "      <td>0</td>\n",
       "    </tr>\n",
       "    <tr>\n",
       "      <th>1</th>\n",
       "      <td>9.0</td>\n",
       "      <td>0</td>\n",
       "      <td>0</td>\n",
       "      <td>2</td>\n",
       "      <td>0</td>\n",
       "      <td>0</td>\n",
       "      <td>1</td>\n",
       "      <td>0</td>\n",
       "      <td>0</td>\n",
       "      <td>1</td>\n",
       "      <td>...</td>\n",
       "      <td>0</td>\n",
       "      <td>0</td>\n",
       "      <td>0</td>\n",
       "      <td>0</td>\n",
       "      <td>0</td>\n",
       "      <td>0</td>\n",
       "      <td>0</td>\n",
       "      <td>0</td>\n",
       "      <td>0</td>\n",
       "      <td>0</td>\n",
       "    </tr>\n",
       "    <tr>\n",
       "      <th>2</th>\n",
       "      <td>9.0</td>\n",
       "      <td>0</td>\n",
       "      <td>0</td>\n",
       "      <td>2</td>\n",
       "      <td>0</td>\n",
       "      <td>0</td>\n",
       "      <td>1</td>\n",
       "      <td>0</td>\n",
       "      <td>0</td>\n",
       "      <td>1</td>\n",
       "      <td>...</td>\n",
       "      <td>0</td>\n",
       "      <td>0</td>\n",
       "      <td>0</td>\n",
       "      <td>0</td>\n",
       "      <td>0</td>\n",
       "      <td>0</td>\n",
       "      <td>0</td>\n",
       "      <td>0</td>\n",
       "      <td>0</td>\n",
       "      <td>0</td>\n",
       "    </tr>\n",
       "    <tr>\n",
       "      <th>3</th>\n",
       "      <td>3.0</td>\n",
       "      <td>0</td>\n",
       "      <td>0</td>\n",
       "      <td>2</td>\n",
       "      <td>0</td>\n",
       "      <td>0</td>\n",
       "      <td>1</td>\n",
       "      <td>0</td>\n",
       "      <td>0</td>\n",
       "      <td>1</td>\n",
       "      <td>...</td>\n",
       "      <td>0</td>\n",
       "      <td>0</td>\n",
       "      <td>0</td>\n",
       "      <td>0</td>\n",
       "      <td>0</td>\n",
       "      <td>0</td>\n",
       "      <td>0</td>\n",
       "      <td>0</td>\n",
       "      <td>0</td>\n",
       "      <td>0</td>\n",
       "    </tr>\n",
       "    <tr>\n",
       "      <th>4</th>\n",
       "      <td>-2.0</td>\n",
       "      <td>0</td>\n",
       "      <td>0</td>\n",
       "      <td>2</td>\n",
       "      <td>0</td>\n",
       "      <td>0</td>\n",
       "      <td>1</td>\n",
       "      <td>0</td>\n",
       "      <td>0</td>\n",
       "      <td>1</td>\n",
       "      <td>...</td>\n",
       "      <td>0</td>\n",
       "      <td>0</td>\n",
       "      <td>0</td>\n",
       "      <td>0</td>\n",
       "      <td>0</td>\n",
       "      <td>0</td>\n",
       "      <td>0</td>\n",
       "      <td>0</td>\n",
       "      <td>0</td>\n",
       "      <td>0</td>\n",
       "    </tr>\n",
       "  </tbody>\n",
       "</table>\n",
       "<p>5 rows × 68 columns</p>\n",
       "</div>"
      ],
      "text/plain": [
       "   dif_min  atraso_15  temporada_alta  periodo_dia  cambio_aerolinea  \\\n",
       "0      3.0          0               0            2                 0   \n",
       "1      9.0          0               0            2                 0   \n",
       "2      9.0          0               0            2                 0   \n",
       "3      3.0          0               0            2                 0   \n",
       "4     -2.0          0               0            2                 0   \n",
       "\n",
       "   cambio_num_vuelo  same_destination  TIPOVUELO_I  \\\n",
       "0                 0                 1            0   \n",
       "1                 0                 1            0   \n",
       "2                 0                 1            0   \n",
       "3                 0                 1            0   \n",
       "4                 0                 1            0   \n",
       "\n",
       "   OPERA_Aerolineas Argentinas  OPERA_American Airlines  ...  \\\n",
       "0                            0                        1  ...   \n",
       "1                            0                        1  ...   \n",
       "2                            0                        1  ...   \n",
       "3                            0                        1  ...   \n",
       "4                            0                        1  ...   \n",
       "\n",
       "   SIGLADES_Montevideo  SIGLADES_Nueva York  SIGLADES_Other  SIGLADES_Paris  \\\n",
       "0                    0                    0               0               0   \n",
       "1                    0                    0               0               0   \n",
       "2                    0                    0               0               0   \n",
       "3                    0                    0               0               0   \n",
       "4                    0                    0               0               0   \n",
       "\n",
       "   SIGLADES_Puerto Montt  SIGLADES_Punta Arenas  SIGLADES_Rio de Janeiro  \\\n",
       "0                      0                      0                        0   \n",
       "1                      0                      0                        0   \n",
       "2                      0                      0                        0   \n",
       "3                      0                      0                        0   \n",
       "4                      0                      0                        0   \n",
       "\n",
       "   SIGLADES_Sao Paulo  SIGLADES_Temuco  SIGLADES_Valdivia  \n",
       "0                   0                0                  0  \n",
       "1                   0                0                  0  \n",
       "2                   0                0                  0  \n",
       "3                   0                0                  0  \n",
       "4                   0                0                  0  \n",
       "\n",
       "[5 rows x 68 columns]"
      ]
     },
     "execution_count": 72,
     "metadata": {},
     "output_type": "execute_result"
    }
   ],
   "source": [
    "df.head()"
   ]
  },
  {
   "cell_type": "markdown",
   "metadata": {},
   "source": [
    "## Missing Values   "
   ]
  },
  {
   "cell_type": "code",
   "execution_count": 73,
   "metadata": {},
   "outputs": [
    {
     "data": {
      "text/plain": [
       "dif_min                    0\n",
       "atraso_15                  0\n",
       "temporada_alta             0\n",
       "periodo_dia                0\n",
       "cambio_aerolinea           0\n",
       "                          ..\n",
       "SIGLADES_Punta Arenas      0\n",
       "SIGLADES_Rio de Janeiro    0\n",
       "SIGLADES_Sao Paulo         0\n",
       "SIGLADES_Temuco            0\n",
       "SIGLADES_Valdivia          0\n",
       "Length: 68, dtype: int64"
      ]
     },
     "execution_count": 73,
     "metadata": {},
     "output_type": "execute_result"
    }
   ],
   "source": [
    "df.isnull().sum()"
   ]
  },
  {
   "cell_type": "markdown",
   "metadata": {},
   "source": [
    "No tenemos missing values."
   ]
  },
  {
   "cell_type": "markdown",
   "metadata": {},
   "source": [
    "## Dataset final "
   ]
  },
  {
   "cell_type": "code",
   "execution_count": 74,
   "metadata": {},
   "outputs": [],
   "source": [
    "custom_df = df.copy()\n",
    "custom_df.to_csv(\"Challenge_LATAM/custom_df.csv\")"
   ]
  }
 ],
 "metadata": {
  "interpreter": {
   "hash": "afac30dab208487c3943d00ff7141433bc66a48d61ad260ea38d72fcdbdaa8d8"
  },
  "kernelspec": {
   "display_name": "Python 3.9.12 64-bit (windows store)",
   "language": "python",
   "name": "python3"
  },
  "language_info": {
   "codemirror_mode": {
    "name": "ipython",
    "version": 3
   },
   "file_extension": ".py",
   "mimetype": "text/x-python",
   "name": "python",
   "nbconvert_exporter": "python",
   "pygments_lexer": "ipython3",
   "version": "3.9.7"
  },
  "orig_nbformat": 4
 },
 "nbformat": 4,
 "nbformat_minor": 2
}
