{
 "cells": [
  {
   "cell_type": "code",
   "execution_count": 29,
   "metadata": {},
   "outputs": [],
   "source": [
    "import pandas as pd\n",
    "import numpy as np\n",
    "from sklearn.model_selection import train_test_split\n",
    "from sklearn.pipeline import Pipeline, FeatureUnion\n",
    "from sklearn.preprocessing import Normalizer, StandardScaler, MinMaxScaler, PowerTransformer, MaxAbsScaler, LabelEncoder\n",
    "from sklearn.model_selection import GridSearchCV, RandomizedSearchCV\n",
    "from sklearn.decomposition import PCA\n",
    "from sklearn.feature_selection import SelectFromModel # Feature selector\n",
    "import matplotlib.pyplot as plt\n",
    "import seaborn as sns\n",
    "\n",
    "from sklearn.linear_model import LogisticRegression\n",
    "from sklearn.linear_model import LassoCV\n",
    "from sklearn.neighbors import KNeighborsClassifier # The k-nearest neighbor classifier\n",
    "from sklearn.ensemble import RandomForestClassifier\n",
    "from sklearn import svm\n",
    "from sklearn.metrics import recall_score, confusion_matrix \n",
    "from imblearn.over_sampling import SMOTE\n",
    "from sklearn.model_selection import StratifiedKFold\n",
    "from sklearn.svm import SVC\n",
    "from sklearn.naive_bayes import GaussianNB\n",
    "from sklearn.tree import DecisionTreeClassifier\n",
    "import xgboost as xgb\n",
    "from sklearn import feature_selection\n",
    "from sklearn.utils.class_weight import compute_class_weight"
   ]
  },
  {
   "cell_type": "code",
   "execution_count": 2,
   "metadata": {},
   "outputs": [
    {
     "data": {
      "text/html": [
       "<div>\n",
       "<style scoped>\n",
       "    .dataframe tbody tr th:only-of-type {\n",
       "        vertical-align: middle;\n",
       "    }\n",
       "\n",
       "    .dataframe tbody tr th {\n",
       "        vertical-align: top;\n",
       "    }\n",
       "\n",
       "    .dataframe thead th {\n",
       "        text-align: right;\n",
       "    }\n",
       "</style>\n",
       "<table border=\"1\" class=\"dataframe\">\n",
       "  <thead>\n",
       "    <tr style=\"text-align: right;\">\n",
       "      <th></th>\n",
       "      <th>Unnamed: 0</th>\n",
       "      <th>DIA</th>\n",
       "      <th>MES</th>\n",
       "      <th>DIANOM</th>\n",
       "      <th>dif_min</th>\n",
       "      <th>atraso_15</th>\n",
       "      <th>temporada_alta</th>\n",
       "      <th>periodo_dia</th>\n",
       "      <th>cambio_aerolinea</th>\n",
       "      <th>cambio_num_vuelo</th>\n",
       "      <th>...</th>\n",
       "      <th>SIGLADES_Montevideo</th>\n",
       "      <th>SIGLADES_Nueva York</th>\n",
       "      <th>SIGLADES_Other</th>\n",
       "      <th>SIGLADES_Paris</th>\n",
       "      <th>SIGLADES_Puerto Montt</th>\n",
       "      <th>SIGLADES_Punta Arenas</th>\n",
       "      <th>SIGLADES_Rio de Janeiro</th>\n",
       "      <th>SIGLADES_Sao Paulo</th>\n",
       "      <th>SIGLADES_Temuco</th>\n",
       "      <th>SIGLADES_Valdivia</th>\n",
       "    </tr>\n",
       "  </thead>\n",
       "  <tbody>\n",
       "    <tr>\n",
       "      <th>0</th>\n",
       "      <td>0</td>\n",
       "      <td>1</td>\n",
       "      <td>1</td>\n",
       "      <td>6</td>\n",
       "      <td>3.0</td>\n",
       "      <td>0</td>\n",
       "      <td>0</td>\n",
       "      <td>2</td>\n",
       "      <td>0</td>\n",
       "      <td>0</td>\n",
       "      <td>...</td>\n",
       "      <td>0</td>\n",
       "      <td>0</td>\n",
       "      <td>0</td>\n",
       "      <td>0</td>\n",
       "      <td>0</td>\n",
       "      <td>0</td>\n",
       "      <td>0</td>\n",
       "      <td>0</td>\n",
       "      <td>0</td>\n",
       "      <td>0</td>\n",
       "    </tr>\n",
       "    <tr>\n",
       "      <th>1</th>\n",
       "      <td>1</td>\n",
       "      <td>2</td>\n",
       "      <td>1</td>\n",
       "      <td>0</td>\n",
       "      <td>9.0</td>\n",
       "      <td>0</td>\n",
       "      <td>0</td>\n",
       "      <td>2</td>\n",
       "      <td>0</td>\n",
       "      <td>0</td>\n",
       "      <td>...</td>\n",
       "      <td>0</td>\n",
       "      <td>0</td>\n",
       "      <td>0</td>\n",
       "      <td>0</td>\n",
       "      <td>0</td>\n",
       "      <td>0</td>\n",
       "      <td>0</td>\n",
       "      <td>0</td>\n",
       "      <td>0</td>\n",
       "      <td>0</td>\n",
       "    </tr>\n",
       "    <tr>\n",
       "      <th>2</th>\n",
       "      <td>2</td>\n",
       "      <td>3</td>\n",
       "      <td>1</td>\n",
       "      <td>1</td>\n",
       "      <td>9.0</td>\n",
       "      <td>0</td>\n",
       "      <td>0</td>\n",
       "      <td>2</td>\n",
       "      <td>0</td>\n",
       "      <td>0</td>\n",
       "      <td>...</td>\n",
       "      <td>0</td>\n",
       "      <td>0</td>\n",
       "      <td>0</td>\n",
       "      <td>0</td>\n",
       "      <td>0</td>\n",
       "      <td>0</td>\n",
       "      <td>0</td>\n",
       "      <td>0</td>\n",
       "      <td>0</td>\n",
       "      <td>0</td>\n",
       "    </tr>\n",
       "  </tbody>\n",
       "</table>\n",
       "<p>3 rows × 53 columns</p>\n",
       "</div>"
      ],
      "text/plain": [
       "   Unnamed: 0  DIA  MES  DIANOM  dif_min  atraso_15  temporada_alta  \\\n",
       "0           0    1    1       6      3.0          0               0   \n",
       "1           1    2    1       0      9.0          0               0   \n",
       "2           2    3    1       1      9.0          0               0   \n",
       "\n",
       "   periodo_dia  cambio_aerolinea  cambio_num_vuelo  ...  SIGLADES_Montevideo  \\\n",
       "0            2                 0                 0  ...                    0   \n",
       "1            2                 0                 0  ...                    0   \n",
       "2            2                 0                 0  ...                    0   \n",
       "\n",
       "   SIGLADES_Nueva York  SIGLADES_Other  SIGLADES_Paris  SIGLADES_Puerto Montt  \\\n",
       "0                    0               0               0                      0   \n",
       "1                    0               0               0                      0   \n",
       "2                    0               0               0                      0   \n",
       "\n",
       "   SIGLADES_Punta Arenas  SIGLADES_Rio de Janeiro  SIGLADES_Sao Paulo  \\\n",
       "0                      0                        0                   0   \n",
       "1                      0                        0                   0   \n",
       "2                      0                        0                   0   \n",
       "\n",
       "   SIGLADES_Temuco  SIGLADES_Valdivia  \n",
       "0                0                  0  \n",
       "1                0                  0  \n",
       "2                0                  0  \n",
       "\n",
       "[3 rows x 53 columns]"
      ]
     },
     "execution_count": 2,
     "metadata": {},
     "output_type": "execute_result"
    }
   ],
   "source": [
    "df = pd.read_csv('Challenge_LATAM/custom_df.csv')\n",
    "df.head(3)"
   ]
  },
  {
   "cell_type": "code",
   "execution_count": 3,
   "metadata": {},
   "outputs": [],
   "source": [
    "def dropcol(df,cols):\n",
    "        return df.drop(cols, axis = 1, inplace = True)\n",
    "dropcol(df,'Unnamed: 0')"
   ]
  },
  {
   "cell_type": "markdown",
   "metadata": {},
   "source": [
    "Preparamos el dataset para el modelo"
   ]
  },
  {
   "cell_type": "code",
   "execution_count": 4,
   "metadata": {},
   "outputs": [],
   "source": [
    "y = df['atraso_15']\n",
    "X = df.drop(['atraso_15', 'dif_min'], axis=1)"
   ]
  },
  {
   "cell_type": "code",
   "execution_count": 5,
   "metadata": {},
   "outputs": [],
   "source": [
    "X_train, X_test, y_train, y_test = train_test_split(X, y, train_size=0.7, random_state=20, stratify=y)\n",
    "# stratify = y because it's an imbalanced dataset"
   ]
  },
  {
   "cell_type": "markdown",
   "metadata": {},
   "source": [
    "#### Métrica utilizada"
   ]
  },
  {
   "cell_type": "markdown",
   "metadata": {},
   "source": [
    "Para determinar cuál es el modelo que mejor performa, hemos elegido la métrica de recall. \n",
    "\n",
    "$$ Recall\\: \\frac{TP}{TP + FN } $$\n",
    "\n",
    "El recall se centra en los True Positives - es decir, se utiliza para saber cuantos Verdaderos Positivos son correctamente clasificados por el modelo. \n",
    "En nuestro caso, es más importante que el modelo identifique como vuelos atrasados todos los vuelos que realmente se han atrasado, ya que entendemos que los FN (predecir vuelo como no atrasado cuando en realidad es atrasado) puede tener un impacto negativo en el cliente. "
   ]
  },
  {
   "cell_type": "markdown",
   "metadata": {},
   "source": [
    "## Modelos de Clasificación\n",
    "#### 1. Random Forest\n",
    "Usamos class_weight = 'balanced' ya que se trata de un imbalanced dataset."
   ]
  },
  {
   "cell_type": "code",
   "execution_count": 20,
   "metadata": {},
   "outputs": [
    {
     "name": "stdout",
     "output_type": "stream",
     "text": [
      "Best params: {'clf__min_samples_split': 4, 'clf__min_samples_leaf': 9, 'clf__max_depth': 8, 'clf__criterion': 'gini'}\n",
      "Best training recall Score: 0.676\n",
      "Test set recall score for best params: 0.676 \n"
     ]
    }
   ],
   "source": [
    "# Random Forest\n",
    "rf_pipe = Pipeline([('scl', StandardScaler()),\n",
    "                ('clf', RandomForestClassifier(class_weight='balanced', random_state = 42)),\n",
    "                        ])\n",
    "                        \n",
    "param_range = [3, 4, 5, 6, 7, 8, 9, 10, 11]\n",
    "param_range_fl = [1.0, 0.7, 0.5, 0.3, 0.1, 0.01]\n",
    "\n",
    "\n",
    "grid_params_rf = [{'clf__criterion': ['gini', 'entropy'],\n",
    "        'clf__min_samples_leaf': param_range,\n",
    "        'clf__max_depth': param_range,\n",
    "        'clf__min_samples_split': param_range}]\n",
    "\n",
    "n_jobs = -1 #n_jobs to run faster\n",
    "skf = StratifiedKFold(n_splits=10)\n",
    "\n",
    "# Randomized Search\n",
    "gs_rf = RandomizedSearchCV(estimator= rf_pipe, \n",
    "                           param_distributions=grid_params_rf, \n",
    "                           scoring = \"recall\",\n",
    "                           cv= skf) \n",
    "\n",
    "gs_rf.fit(X_train, y_train)\n",
    "\n",
    "print('Best params: %s' % gs_rf.best_params_)\n",
    "# Best training recall Score\n",
    "print('Best training recall Score: %.3f' % gs_rf.best_score_)\n",
    "# Predict on test data with best params\n",
    "y_pred = gs_rf.predict(X_test)\n",
    "# Test data recall of model with best params\n",
    "print('Test set recall score for best params: %.3f ' % recall_score(y_test, y_pred))"
   ]
  },
  {
   "cell_type": "markdown",
   "metadata": {},
   "source": [
    "Feature importance of Random Forest with best parameters:"
   ]
  },
  {
   "cell_type": "code",
   "execution_count": 21,
   "metadata": {},
   "outputs": [
    {
     "data": {
      "text/plain": [
       "0.7003171247357294"
      ]
     },
     "execution_count": 21,
     "metadata": {},
     "output_type": "execute_result"
    }
   ],
   "source": [
    "rfc = Pipeline([('scl', StandardScaler()),\n",
    "                ('clf', RandomForestClassifier(class_weight='balanced',min_samples_split= 4,min_samples_leaf=9, max_depth=8, criterion='gini', random_state=42)),\n",
    "                        ])\n",
    "\n",
    "rfc.fit(X, y)\n",
    "\n",
    "y_pred = rfc.predict(X_test)\n",
    "\n",
    "recall_score(y_test, y_pred)"
   ]
  },
  {
   "cell_type": "code",
   "execution_count": 22,
   "metadata": {},
   "outputs": [
    {
     "data": {
      "image/png": "[encoded data removed]",
      "text/plain": [
       "<Figure size 432x288 with 2 Axes>"
      ]
     },
     "metadata": {
      "needs_background": "light"
     },
     "output_type": "display_data"
    }
   ],
   "source": [
    "#Veamos la matriz de confusión\n",
    "cf_matrix = confusion_matrix(y_test, y_pred)\n",
    "ax = sns.heatmap(cf_matrix, annot=True, cmap='Blues')\n",
    "\n",
    "ax.set_title('Matriz de confusión para modelo Xgboost');\n",
    "ax.set_xlabel('\\nPredicted Values')\n",
    "ax.set_ylabel('Actual Values ');"
   ]
  },
  {
   "cell_type": "markdown",
   "metadata": {},
   "source": [
    "#### 2. Ranfom Forest Feature Selection "
   ]
  },
  {
   "cell_type": "markdown",
   "metadata": {},
   "source": [
    "#### 3. XGBoost"
   ]
  },
  {
   "cell_type": "code",
   "execution_count": null,
   "metadata": {},
   "outputs": [],
   "source": []
  },
  {
   "cell_type": "markdown",
   "metadata": {},
   "source": [
    "#### 4. SVM - Support Vector Machine"
   ]
  },
  {
   "cell_type": "markdown",
   "metadata": {},
   "source": []
  }
 ],
 "metadata": {
  "interpreter": {
   "hash": "d495b75e585fc1aacde80282644c711a62d5534a7b8eccc8e128850bb76d6ea5"
  },
  "kernelspec": {
   "display_name": "Python 3.9.7 ('base')",
   "language": "python",
   "name": "python3"
  },
  "language_info": {
   "codemirror_mode": {
    "name": "ipython",
    "version": 3
   },
   "file_extension": ".py",
   "mimetype": "text/x-python",
   "name": "python",
   "nbconvert_exporter": "python",
   "pygments_lexer": "ipython3",
   "version": "3.9.7"
  },
  "orig_nbformat": 4
 },
 "nbformat": 4,
 "nbformat_minor": 2
}
