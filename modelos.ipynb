{
 "cells": [
  {
   "cell_type": "code",
   "execution_count": 1,
   "metadata": {},
   "outputs": [],
   "source": [
    "import pandas as pd\n",
    "import numpy as np\n",
    "from sklearn.model_selection import train_test_split\n",
    "from sklearn.pipeline import Pipeline, FeatureUnion\n",
    "from sklearn.preprocessing import Normalizer, StandardScaler, MinMaxScaler, PowerTransformer, MaxAbsScaler, LabelEncoder\n",
    "from sklearn.model_selection import GridSearchCV, RandomizedSearchCV\n",
    "from sklearn.decomposition import PCA\n",
    "from sklearn.feature_selection import SelectFromModel # Feature selector\n",
    "import matplotlib.pyplot as plt\n",
    "import seaborn as sns\n",
    "\n",
    "from scipy.stats import stats, uniform, randint\n",
    "from sklearn.linear_model import LogisticRegression\n",
    "from sklearn.linear_model import LassoCV\n",
    "from sklearn.neighbors import KNeighborsClassifier # The k-nearest neighbor classifier\n",
    "from sklearn.ensemble import RandomForestClassifier\n",
    "from sklearn import svm\n",
    "from sklearn.metrics import recall_score, confusion_matrix, precision_score, f1_score\n",
    "from imblearn.over_sampling import SMOTE\n",
    "from sklearn.model_selection import StratifiedKFold\n",
    "from sklearn.svm import SVC\n",
    "from sklearn.naive_bayes import GaussianNB\n",
    "from sklearn.tree import DecisionTreeClassifier\n",
    "from xgboost import *\n",
    "from sklearn import feature_selection\n",
    "from sklearn.utils.class_weight import compute_class_weight\n",
    "import warnings\n",
    "warnings.filterwarnings('ignore')\n",
    "warnings.simplefilter('ignore')"
   ]
  },
  {
   "cell_type": "code",
   "execution_count": 2,
   "metadata": {},
   "outputs": [
    {
     "data": {
      "text/html": [
       "<div>\n",
       "<style scoped>\n",
       "    .dataframe tbody tr th:only-of-type {\n",
       "        vertical-align: middle;\n",
       "    }\n",
       "\n",
       "    .dataframe tbody tr th {\n",
       "        vertical-align: top;\n",
       "    }\n",
       "\n",
       "    .dataframe thead th {\n",
       "        text-align: right;\n",
       "    }\n",
       "</style>\n",
       "<table border=\"1\" class=\"dataframe\">\n",
       "  <thead>\n",
       "    <tr style=\"text-align: right;\">\n",
       "      <th></th>\n",
       "      <th>Unnamed: 0</th>\n",
       "      <th>DIA</th>\n",
       "      <th>MES</th>\n",
       "      <th>DIANOM</th>\n",
       "      <th>dif_min</th>\n",
       "      <th>atraso_15</th>\n",
       "      <th>temporada_alta</th>\n",
       "      <th>periodo_dia</th>\n",
       "      <th>cambio_aerolinea</th>\n",
       "      <th>cambio_num_vuelo</th>\n",
       "      <th>...</th>\n",
       "      <th>SIGLADES_Montevideo</th>\n",
       "      <th>SIGLADES_Nueva York</th>\n",
       "      <th>SIGLADES_Other</th>\n",
       "      <th>SIGLADES_Paris</th>\n",
       "      <th>SIGLADES_Puerto Montt</th>\n",
       "      <th>SIGLADES_Punta Arenas</th>\n",
       "      <th>SIGLADES_Rio de Janeiro</th>\n",
       "      <th>SIGLADES_Sao Paulo</th>\n",
       "      <th>SIGLADES_Temuco</th>\n",
       "      <th>SIGLADES_Valdivia</th>\n",
       "    </tr>\n",
       "  </thead>\n",
       "  <tbody>\n",
       "    <tr>\n",
       "      <th>0</th>\n",
       "      <td>0</td>\n",
       "      <td>1</td>\n",
       "      <td>1</td>\n",
       "      <td>6</td>\n",
       "      <td>3.0</td>\n",
       "      <td>0</td>\n",
       "      <td>0</td>\n",
       "      <td>2</td>\n",
       "      <td>0</td>\n",
       "      <td>0</td>\n",
       "      <td>...</td>\n",
       "      <td>0</td>\n",
       "      <td>0</td>\n",
       "      <td>0</td>\n",
       "      <td>0</td>\n",
       "      <td>0</td>\n",
       "      <td>0</td>\n",
       "      <td>0</td>\n",
       "      <td>0</td>\n",
       "      <td>0</td>\n",
       "      <td>0</td>\n",
       "    </tr>\n",
       "    <tr>\n",
       "      <th>1</th>\n",
       "      <td>1</td>\n",
       "      <td>2</td>\n",
       "      <td>1</td>\n",
       "      <td>0</td>\n",
       "      <td>9.0</td>\n",
       "      <td>0</td>\n",
       "      <td>0</td>\n",
       "      <td>2</td>\n",
       "      <td>0</td>\n",
       "      <td>0</td>\n",
       "      <td>...</td>\n",
       "      <td>0</td>\n",
       "      <td>0</td>\n",
       "      <td>0</td>\n",
       "      <td>0</td>\n",
       "      <td>0</td>\n",
       "      <td>0</td>\n",
       "      <td>0</td>\n",
       "      <td>0</td>\n",
       "      <td>0</td>\n",
       "      <td>0</td>\n",
       "    </tr>\n",
       "    <tr>\n",
       "      <th>2</th>\n",
       "      <td>2</td>\n",
       "      <td>3</td>\n",
       "      <td>1</td>\n",
       "      <td>1</td>\n",
       "      <td>9.0</td>\n",
       "      <td>0</td>\n",
       "      <td>0</td>\n",
       "      <td>2</td>\n",
       "      <td>0</td>\n",
       "      <td>0</td>\n",
       "      <td>...</td>\n",
       "      <td>0</td>\n",
       "      <td>0</td>\n",
       "      <td>0</td>\n",
       "      <td>0</td>\n",
       "      <td>0</td>\n",
       "      <td>0</td>\n",
       "      <td>0</td>\n",
       "      <td>0</td>\n",
       "      <td>0</td>\n",
       "      <td>0</td>\n",
       "    </tr>\n",
       "  </tbody>\n",
       "</table>\n",
       "<p>3 rows × 53 columns</p>\n",
       "</div>"
      ],
      "text/plain": [
       "   Unnamed: 0  DIA  MES  DIANOM  dif_min  atraso_15  temporada_alta  \\\n",
       "0           0    1    1       6      3.0          0               0   \n",
       "1           1    2    1       0      9.0          0               0   \n",
       "2           2    3    1       1      9.0          0               0   \n",
       "\n",
       "   periodo_dia  cambio_aerolinea  cambio_num_vuelo  ...  SIGLADES_Montevideo  \\\n",
       "0            2                 0                 0  ...                    0   \n",
       "1            2                 0                 0  ...                    0   \n",
       "2            2                 0                 0  ...                    0   \n",
       "\n",
       "   SIGLADES_Nueva York  SIGLADES_Other  SIGLADES_Paris  SIGLADES_Puerto Montt  \\\n",
       "0                    0               0               0                      0   \n",
       "1                    0               0               0                      0   \n",
       "2                    0               0               0                      0   \n",
       "\n",
       "   SIGLADES_Punta Arenas  SIGLADES_Rio de Janeiro  SIGLADES_Sao Paulo  \\\n",
       "0                      0                        0                   0   \n",
       "1                      0                        0                   0   \n",
       "2                      0                        0                   0   \n",
       "\n",
       "   SIGLADES_Temuco  SIGLADES_Valdivia  \n",
       "0                0                  0  \n",
       "1                0                  0  \n",
       "2                0                  0  \n",
       "\n",
       "[3 rows x 53 columns]"
      ]
     },
     "execution_count": 2,
     "metadata": {},
     "output_type": "execute_result"
    }
   ],
   "source": [
    "df = pd.read_csv('Challenge_LATAM/custom_df.csv')\n",
    "df.head(3)"
   ]
  },
  {
   "cell_type": "code",
   "execution_count": 3,
   "metadata": {},
   "outputs": [],
   "source": [
    "def dropcol(df,cols):\n",
    "        return df.drop(cols, axis = 1, inplace = True)\n",
    "dropcol(df,'Unnamed: 0')"
   ]
  },
  {
   "cell_type": "markdown",
   "metadata": {},
   "source": [
    "Preparamos el dataset para el modelo"
   ]
  },
  {
   "cell_type": "code",
   "execution_count": 4,
   "metadata": {},
   "outputs": [],
   "source": [
    "y = df['atraso_15']\n",
    "X = df.drop(['atraso_15', 'dif_min'], axis=1)"
   ]
  },
  {
   "cell_type": "code",
   "execution_count": 5,
   "metadata": {},
   "outputs": [],
   "source": [
    "X_train, X_test, y_train, y_test = train_test_split(X, y, train_size=0.7, random_state=20, stratify=y)\n",
    "# stratify = y because it's an imbalanced dataset"
   ]
  },
  {
   "cell_type": "markdown",
   "metadata": {},
   "source": [
    "#### Métrica utilizada"
   ]
  },
  {
   "cell_type": "markdown",
   "metadata": {},
   "source": [
    "Para determinar cuál es el modelo que mejor performa, hemos elegido la métrica de recall. \n",
    "\n",
    "$$ Recall\\: \\frac{TP}{TP + FN } $$\n",
    "\n",
    "El recall se centra en los True Positives - es decir, se utiliza para saber cuantos Verdaderos Positivos son correctamente clasificados por el modelo. \n",
    "En nuestro caso, es más importante que el modelo identifique como vuelos atrasados todos los vuelos que realmente se han atrasado, ya que entendemos que los FN (predecir vuelo como no atrasado cuando en realidad es atrasado) puede tener un impacto negativo en el cliente. \n",
    "\n",
    "También vamos a centrarnos en f1_score micro.\n",
    "F1 Score es una métrica que combina el precision y el recall. \n",
    "$$ F1\\ = 2 * \\frac{recall * precision }{recall + precision } $$\n",
    "Micro-average se prefiere cuando hay un class imbalance.\n",
    "\n",
    "En Micro-average method:hace una media global del F1 score contando las sumas de los TP, FN y FP. "
   ]
  },
  {
   "cell_type": "markdown",
   "metadata": {},
   "source": [
    "## Modelos de Clasificación\n",
    "#### 1. Random Forest\n",
    "Random Forest es una metodología de bagging donde, seleccionando un subset de features, el método es capaz de capturar el impacto de las diferentes variables, llevando al modelo a tener un gran poder predictivo. \n",
    "\n",
    "Hay varios hiperparámetros en el modeo que tenemos que tunear, acorde a la data y ss características. \n",
    "\n",
    "Es importante resaltar que una de las características de los tree-based models, es que son eficientes en el manejo de variables categóricas y de data no-normalizada - creando modelos interpretables. \n",
    "\n",
    "Usamos class_weight = 'balanced' ya que se trata de un imbalanced dataset.\n",
    "\n",
    "Vamos a crear a entrenar el Random Forest con la data normalizada (usando StandardScaler) y no normalizada, y comparareros ambos resultados. "
   ]
  },
  {
   "cell_type": "code",
   "execution_count": 53,
   "metadata": {},
   "outputs": [
    {
     "name": "stdout",
     "output_type": "stream",
     "text": [
      "Training model...\n",
      "\n",
      "Estimator: Random Forest with Scaling\n",
      "Best params: {'clf__min_samples_split': 5, 'clf__min_samples_leaf': 4, 'clf__max_depth': 7, 'clf__criterion': 'entropy'}\n",
      "Best training recall Score: 0.673\n",
      "Test set recall score for best params: 0.669 \n",
      "\n",
      "Estimator: Random Forest\n",
      "Best params: {'clf__min_samples_split': 8, 'clf__min_samples_leaf': 4, 'clf__max_depth': 8, 'clf__criterion': 'entropy'}\n",
      "Best training recall Score: 0.674\n",
      "Test set recall score for best params: 0.675 \n",
      "\n",
      "Classifier with best test set recall_score: Random Forest\n",
      "classifiers trained!\n"
     ]
    }
   ],
   "source": [
    "# Random Forest\n",
    "rf_pipe_scl = Pipeline([('scl', StandardScaler()),\n",
    "                ('clf', RandomForestClassifier(class_weight='balanced', random_state = 42)),\n",
    "                        ])\n",
    "\n",
    "rf_pipe =  Pipeline([\n",
    "                ('clf', RandomForestClassifier(class_weight='balanced', random_state = 42)),\n",
    "                        ])\n",
    "                        \n",
    "param_range = [3, 4, 5, 6, 7, 8, 9, 10, 11]\n",
    "param_range_fl = [1.0, 0.7, 0.5, 0.3, 0.1, 0.01]\n",
    "\n",
    "\n",
    "grid_params_rf = [{'clf__criterion': ['gini', 'entropy'],\n",
    "        'clf__min_samples_leaf': param_range,\n",
    "        'clf__max_depth': param_range,\n",
    "        'clf__min_samples_split': param_range}]\n",
    "\n",
    "# Randomized Search\n",
    "n_jobs = -1 #n_jobs to run faster\n",
    "skf = StratifiedKFold(n_splits=10)\n",
    "\n",
    "gs_rf_scl = RandomizedSearchCV(estimator= rf_pipe_scl, \n",
    "                           param_distributions=grid_params_rf, \n",
    "                           scoring = \"recall\",\n",
    "                           cv= skf) \n",
    "\n",
    "gs_rf = RandomizedSearchCV(estimator= rf_pipe, \n",
    "                           param_distributions=grid_params_rf, \n",
    "                           scoring = \"recall\",\n",
    "                           cv= skf) \n",
    "\n",
    "grids = [gs_rf_scl, gs_rf]\n",
    "\n",
    "# Dictionary of pipelines and classifier types for reference \n",
    "grid_dict = {0: 'Random Forest with Scaling', 1: 'Random Forest'}\n",
    "\n",
    "# Fit the grid search \n",
    "print(\"Training model...\")\n",
    "\n",
    "best_recall = 0.0\n",
    "best_clf = 0\n",
    "best_gs = ''\n",
    "for idx, gs in enumerate(grids):\n",
    "    print('\\nEstimator: %s' % grid_dict[idx])\n",
    "    # Fit grid search\n",
    "    gs.fit(X_train, y_train)\n",
    "    # Best params\n",
    "    print('Best params: %s' % gs.best_params_)\n",
    "    # Best training recall Score\n",
    "    print('Best training recall Score: %.3f' % gs.best_score_)\n",
    "    # Predict on test data with best params\n",
    "    y_pred = gs.predict(X_test)\n",
    "    # Test data recall of model with best params\n",
    "    print('Test set recall score for best params: %.3f ' % recall_score(y_test, y_pred))\n",
    "    # Track best (highest test recall) model\n",
    "    if recall_score(y_test, y_pred) > best_recall:\n",
    "        best_recall = recall_score(y_test, y_pred)\n",
    "        best_gs = gs\n",
    "        best_clf = idx\n",
    "        \n",
    "print('\\nClassifier with best test set recall_score: %s' % grid_dict[best_clf])\n",
    "\n",
    "print('classifiers trained!')"
   ]
  },
  {
   "cell_type": "markdown",
   "metadata": {},
   "source": [
    "Random Forest con mejores hiperparámetros: "
   ]
  },
  {
   "cell_type": "code",
   "execution_count": 8,
   "metadata": {},
   "outputs": [
    {
     "name": "stdout",
     "output_type": "stream",
     "text": [
      "The recall is: 0.6878964059196617\n",
      "The f1 micro score is: 0.6195875281008699\n",
      "The f1 macro score is: 0.5610564944874735\n"
     ]
    }
   ],
   "source": [
    "rfc = RandomForestClassifier(class_weight='balanced',min_samples_split= 8,min_samples_leaf=4, max_depth=8, criterion='entropy', random_state=42)\n",
    "\n",
    "rfc.fit(X, y)\n",
    "\n",
    "y_pred = rfc.predict(X_test)\n",
    "f1_score_macro = f1_score(y_test, y_pred, average='macro')\n",
    "f1_score_micro = f1_score(y_test, y_pred, average='micro')\n",
    "\n",
    "print(f'The recall is: {recall_score(y_test, y_pred)}')\n",
    "print(f'The f1 micro score is: {f1_score_micro}')\n",
    "print(f'The f1 macro score is: {f1_score_macro}')\n"
   ]
  },
  {
   "cell_type": "code",
   "execution_count": 9,
   "metadata": {},
   "outputs": [
    {
     "data": {
      "image/png": "[encoded data removed]",
      "text/plain": [
       "<Figure size 432x288 with 2 Axes>"
      ]
     },
     "metadata": {
      "needs_background": "light"
     },
     "output_type": "display_data"
    }
   ],
   "source": [
    "#Veamos la matriz de confusión\n",
    "cf_matrix = confusion_matrix(y_test, y_pred)\n",
    "ax = sns.heatmap(cf_matrix, annot=True, cmap='Blues')\n",
    "\n",
    "ax.set_title('Matriz de confusión para modelo Xgboost');\n",
    "ax.set_xlabel('\\nPredicted Values')\n",
    "ax.set_ylabel('Actual Values ');"
   ]
  },
  {
   "cell_type": "markdown",
   "metadata": {},
   "source": [
    "**Completar explicación**\n",
    "Random Forest Feature importance:"
   ]
  },
  {
   "cell_type": "code",
   "execution_count": 17,
   "metadata": {},
   "outputs": [
    {
     "data": {
      "image/png": "[encoded data removed]",
      "text/plain": [
       "<Figure size 1584x1440 with 1 Axes>"
      ]
     },
     "metadata": {
      "needs_background": "light"
     },
     "output_type": "display_data"
    }
   ],
   "source": [
    "feature_scores = pd.Series(rfc.feature_importances_, index=X.columns).sort_values(ascending=False).head(35)\n",
    "sns.barplot(x=feature_scores, y=feature_scores.index).set_title('Tree-Based Feature Analysis')\n",
    "plt.xlabel('Feature Importance Score')\n",
    "plt.ylabel('Features')\n",
    "plt.rcParams[\"figure.figsize\"] = (22, 20)"
   ]
  },
  {
   "cell_type": "markdown",
   "metadata": {},
   "source": [
    "Las variables que más influyen en el atraso del vuelo según el modelo de Random Forest son: \n",
    "- MES del año\n",
    "- TIPOVUELO_I : si el vuelo es internacional o nacional \n",
    "- DIA del mes\n",
    "- periodo_dia : si el vuelo es de mañana, tarde o noche\n",
    "- OPERA_Latin American Wings: si la aerolinea que opera es Latin American Wings\n",
    "- temporada_alta: si el vuelo es en temporada alta\n",
    "- DIANOM: el dia de la semana \n",
    "- OPERA_Copa Air: si la aerolinea que opera es Copa Air\n",
    "- SIGLADES_Ciudad de Panama: si el destino del vuelo es Ciudad de Panamá\n",
    "- SIGLADES_Buenos Aires: si el destino del vuelo es Buenos Aires\n",
    "- OPERA_Grupo LATAM: si la aerolinea que opera es Grupo LATAM\n",
    "- cambio_num_vuelo: si hubo un cambio en el numero de vuelo\n",
    "- OPERA_American Airlines: si la aerolinea que opera es AA\n",
    "- OPERA_Gol Trans: si la aerolinea que opera es Gol Trans\n",
    "- cambio_aerolinea: si la aerolinea programada no es igual que la aerolinea que operó el vuelo. \n"
   ]
  },
  {
   "cell_type": "markdown",
   "metadata": {},
   "source": [
    "#### 2. Ranfom Forest Feature Selection\n",
    "Vamos a incluir en el modelo las 25 variables más importantes, excluyendo las restantes. \n",
    "Con esto, estaremos metiendo menos ruido al modelo (evitando overfitting) pero a su vez quitando algunas variables que tengan influencia en el atraso de los vuelos. "
   ]
  },
  {
   "cell_type": "code",
   "execution_count": null,
   "metadata": {},
   "outputs": [],
   "source": [
    "main_features = feature_scores.index\n",
    "y_fs = df['atraso_15']\n",
    "X_fs = df[main_features]\n",
    "\n",
    "X_train_fs, X_test_fs, y_train_fs, y_test_fs = train_test_split(X_fs, y_fs, test_size=0.3)"
   ]
  },
  {
   "cell_type": "markdown",
   "metadata": {},
   "source": [
    "#### 3. XGBoost\n",
    "Gradient boosting es una metodología ensemble en la que en cada iteración el nuevo predictor se construye para ajustarse a los pseudo-residuales del predictor anterior. El proceso de boosting tiene como objetivo reducir el bias y la varianza. \n",
    "\n",
    "Este modelo no puede manejar variables categóricas, con lo que una feature transformation es necesaria para incorporar variables ctegóricas al modelo. XGB no necesita otra feature transformation, como scaling o imputación de missing values. \n",
    "\n",
    "Vamos a definir el scale_pos_weight ya que se trata de un dataset imbalanceado. "
   ]
  },
  {
   "cell_type": "code",
   "execution_count": 6,
   "metadata": {},
   "outputs": [],
   "source": [
    "# We define scale_pos_weight (imbalanced dataset)\n",
    "total_negative_examples = len(df[df['atraso_15']==0])\n",
    "total_positive_examples = len(df[df['atraso_15']==1])\n",
    "scale_pos_weight = total_negative_examples / total_positive_examples"
   ]
  },
  {
   "cell_type": "code",
   "execution_count": 7,
   "metadata": {},
   "outputs": [
    {
     "name": "stdout",
     "output_type": "stream",
     "text": [
      "Training model...\n",
      "\n",
      "Estimator: XGB with Scaling\n"
     ]
    },
    {
     "ename": "KeyboardInterrupt",
     "evalue": "",
     "output_type": "error",
     "traceback": [
      "\u001b[1;31m---------------------------------------------------------------------------\u001b[0m",
      "\u001b[1;31mKeyboardInterrupt\u001b[0m                         Traceback (most recent call last)",
      "\u001b[1;32mC:\\Users\\REBECC~1.COH\\AppData\\Local\\Temp/ipykernel_33940/3722077005.py\u001b[0m in \u001b[0;36m<module>\u001b[1;34m\u001b[0m\n\u001b[0;32m     41\u001b[0m     \u001b[0mprint\u001b[0m\u001b[1;33m(\u001b[0m\u001b[1;34m'\\nEstimator: %s'\u001b[0m \u001b[1;33m%\u001b[0m \u001b[0mgrid_dict\u001b[0m\u001b[1;33m[\u001b[0m\u001b[0midx\u001b[0m\u001b[1;33m]\u001b[0m\u001b[1;33m)\u001b[0m\u001b[1;33m\u001b[0m\u001b[1;33m\u001b[0m\u001b[0m\n\u001b[0;32m     42\u001b[0m     \u001b[1;31m# Fit grid search\u001b[0m\u001b[1;33m\u001b[0m\u001b[1;33m\u001b[0m\u001b[0m\n\u001b[1;32m---> 43\u001b[1;33m     \u001b[0mgs\u001b[0m\u001b[1;33m.\u001b[0m\u001b[0mfit\u001b[0m\u001b[1;33m(\u001b[0m\u001b[0mX_train\u001b[0m\u001b[1;33m,\u001b[0m \u001b[0my_train\u001b[0m\u001b[1;33m)\u001b[0m\u001b[1;33m\u001b[0m\u001b[1;33m\u001b[0m\u001b[0m\n\u001b[0m\u001b[0;32m     44\u001b[0m     \u001b[1;31m# Best params\u001b[0m\u001b[1;33m\u001b[0m\u001b[1;33m\u001b[0m\u001b[0m\n\u001b[0;32m     45\u001b[0m     \u001b[0mprint\u001b[0m\u001b[1;33m(\u001b[0m\u001b[1;34m'Best params: %s'\u001b[0m \u001b[1;33m%\u001b[0m \u001b[0mgs\u001b[0m\u001b[1;33m.\u001b[0m\u001b[0mbest_params_\u001b[0m\u001b[1;33m)\u001b[0m\u001b[1;33m\u001b[0m\u001b[1;33m\u001b[0m\u001b[0m\n",
      "\u001b[1;32m~\\Anaconda3\\lib\\site-packages\\sklearn\\utils\\validation.py\u001b[0m in \u001b[0;36minner_f\u001b[1;34m(*args, **kwargs)\u001b[0m\n\u001b[0;32m     61\u001b[0m             \u001b[0mextra_args\u001b[0m \u001b[1;33m=\u001b[0m \u001b[0mlen\u001b[0m\u001b[1;33m(\u001b[0m\u001b[0margs\u001b[0m\u001b[1;33m)\u001b[0m \u001b[1;33m-\u001b[0m \u001b[0mlen\u001b[0m\u001b[1;33m(\u001b[0m\u001b[0mall_args\u001b[0m\u001b[1;33m)\u001b[0m\u001b[1;33m\u001b[0m\u001b[1;33m\u001b[0m\u001b[0m\n\u001b[0;32m     62\u001b[0m             \u001b[1;32mif\u001b[0m \u001b[0mextra_args\u001b[0m \u001b[1;33m<=\u001b[0m \u001b[1;36m0\u001b[0m\u001b[1;33m:\u001b[0m\u001b[1;33m\u001b[0m\u001b[1;33m\u001b[0m\u001b[0m\n\u001b[1;32m---> 63\u001b[1;33m                 \u001b[1;32mreturn\u001b[0m \u001b[0mf\u001b[0m\u001b[1;33m(\u001b[0m\u001b[1;33m*\u001b[0m\u001b[0margs\u001b[0m\u001b[1;33m,\u001b[0m \u001b[1;33m**\u001b[0m\u001b[0mkwargs\u001b[0m\u001b[1;33m)\u001b[0m\u001b[1;33m\u001b[0m\u001b[1;33m\u001b[0m\u001b[0m\n\u001b[0m\u001b[0;32m     64\u001b[0m \u001b[1;33m\u001b[0m\u001b[0m\n\u001b[0;32m     65\u001b[0m             \u001b[1;31m# extra_args > 0\u001b[0m\u001b[1;33m\u001b[0m\u001b[1;33m\u001b[0m\u001b[0m\n",
      "\u001b[1;32m~\\Anaconda3\\lib\\site-packages\\sklearn\\model_selection\\_search.py\u001b[0m in \u001b[0;36mfit\u001b[1;34m(self, X, y, groups, **fit_params)\u001b[0m\n\u001b[0;32m    839\u001b[0m                 \u001b[1;32mreturn\u001b[0m \u001b[0mresults\u001b[0m\u001b[1;33m\u001b[0m\u001b[1;33m\u001b[0m\u001b[0m\n\u001b[0;32m    840\u001b[0m \u001b[1;33m\u001b[0m\u001b[0m\n\u001b[1;32m--> 841\u001b[1;33m             \u001b[0mself\u001b[0m\u001b[1;33m.\u001b[0m\u001b[0m_run_search\u001b[0m\u001b[1;33m(\u001b[0m\u001b[0mevaluate_candidates\u001b[0m\u001b[1;33m)\u001b[0m\u001b[1;33m\u001b[0m\u001b[1;33m\u001b[0m\u001b[0m\n\u001b[0m\u001b[0;32m    842\u001b[0m \u001b[1;33m\u001b[0m\u001b[0m\n\u001b[0;32m    843\u001b[0m             \u001b[1;31m# multimetric is determined here because in the case of a callable\u001b[0m\u001b[1;33m\u001b[0m\u001b[1;33m\u001b[0m\u001b[0m\n",
      "\u001b[1;32m~\\Anaconda3\\lib\\site-packages\\sklearn\\model_selection\\_search.py\u001b[0m in \u001b[0;36m_run_search\u001b[1;34m(self, evaluate_candidates)\u001b[0m\n\u001b[0;32m   1631\u001b[0m     \u001b[1;32mdef\u001b[0m \u001b[0m_run_search\u001b[0m\u001b[1;33m(\u001b[0m\u001b[0mself\u001b[0m\u001b[1;33m,\u001b[0m \u001b[0mevaluate_candidates\u001b[0m\u001b[1;33m)\u001b[0m\u001b[1;33m:\u001b[0m\u001b[1;33m\u001b[0m\u001b[1;33m\u001b[0m\u001b[0m\n\u001b[0;32m   1632\u001b[0m         \u001b[1;34m\"\"\"Search n_iter candidates from param_distributions\"\"\"\u001b[0m\u001b[1;33m\u001b[0m\u001b[1;33m\u001b[0m\u001b[0m\n\u001b[1;32m-> 1633\u001b[1;33m         evaluate_candidates(ParameterSampler(\n\u001b[0m\u001b[0;32m   1634\u001b[0m             \u001b[0mself\u001b[0m\u001b[1;33m.\u001b[0m\u001b[0mparam_distributions\u001b[0m\u001b[1;33m,\u001b[0m \u001b[0mself\u001b[0m\u001b[1;33m.\u001b[0m\u001b[0mn_iter\u001b[0m\u001b[1;33m,\u001b[0m\u001b[1;33m\u001b[0m\u001b[1;33m\u001b[0m\u001b[0m\n\u001b[0;32m   1635\u001b[0m             random_state=self.random_state))\n",
      "\u001b[1;32m~\\Anaconda3\\lib\\site-packages\\sklearn\\model_selection\\_search.py\u001b[0m in \u001b[0;36mevaluate_candidates\u001b[1;34m(candidate_params, cv, more_results)\u001b[0m\n\u001b[0;32m    793\u001b[0m                               n_splits, n_candidates, n_candidates * n_splits))\n\u001b[0;32m    794\u001b[0m \u001b[1;33m\u001b[0m\u001b[0m\n\u001b[1;32m--> 795\u001b[1;33m                 out = parallel(delayed(_fit_and_score)(clone(base_estimator),\n\u001b[0m\u001b[0;32m    796\u001b[0m                                                        \u001b[0mX\u001b[0m\u001b[1;33m,\u001b[0m \u001b[0my\u001b[0m\u001b[1;33m,\u001b[0m\u001b[1;33m\u001b[0m\u001b[1;33m\u001b[0m\u001b[0m\n\u001b[0;32m    797\u001b[0m                                                        \u001b[0mtrain\u001b[0m\u001b[1;33m=\u001b[0m\u001b[0mtrain\u001b[0m\u001b[1;33m,\u001b[0m \u001b[0mtest\u001b[0m\u001b[1;33m=\u001b[0m\u001b[0mtest\u001b[0m\u001b[1;33m,\u001b[0m\u001b[1;33m\u001b[0m\u001b[1;33m\u001b[0m\u001b[0m\n",
      "\u001b[1;32m~\\Anaconda3\\lib\\site-packages\\joblib\\parallel.py\u001b[0m in \u001b[0;36m__call__\u001b[1;34m(self, iterable)\u001b[0m\n\u001b[0;32m   1054\u001b[0m \u001b[1;33m\u001b[0m\u001b[0m\n\u001b[0;32m   1055\u001b[0m             \u001b[1;32mwith\u001b[0m \u001b[0mself\u001b[0m\u001b[1;33m.\u001b[0m\u001b[0m_backend\u001b[0m\u001b[1;33m.\u001b[0m\u001b[0mretrieval_context\u001b[0m\u001b[1;33m(\u001b[0m\u001b[1;33m)\u001b[0m\u001b[1;33m:\u001b[0m\u001b[1;33m\u001b[0m\u001b[1;33m\u001b[0m\u001b[0m\n\u001b[1;32m-> 1056\u001b[1;33m                 \u001b[0mself\u001b[0m\u001b[1;33m.\u001b[0m\u001b[0mretrieve\u001b[0m\u001b[1;33m(\u001b[0m\u001b[1;33m)\u001b[0m\u001b[1;33m\u001b[0m\u001b[1;33m\u001b[0m\u001b[0m\n\u001b[0m\u001b[0;32m   1057\u001b[0m             \u001b[1;31m# Make sure that we get a last message telling us we are done\u001b[0m\u001b[1;33m\u001b[0m\u001b[1;33m\u001b[0m\u001b[0m\n\u001b[0;32m   1058\u001b[0m             \u001b[0melapsed_time\u001b[0m \u001b[1;33m=\u001b[0m \u001b[0mtime\u001b[0m\u001b[1;33m.\u001b[0m\u001b[0mtime\u001b[0m\u001b[1;33m(\u001b[0m\u001b[1;33m)\u001b[0m \u001b[1;33m-\u001b[0m \u001b[0mself\u001b[0m\u001b[1;33m.\u001b[0m\u001b[0m_start_time\u001b[0m\u001b[1;33m\u001b[0m\u001b[1;33m\u001b[0m\u001b[0m\n",
      "\u001b[1;32m~\\Anaconda3\\lib\\site-packages\\joblib\\parallel.py\u001b[0m in \u001b[0;36mretrieve\u001b[1;34m(self)\u001b[0m\n\u001b[0;32m    933\u001b[0m             \u001b[1;32mtry\u001b[0m\u001b[1;33m:\u001b[0m\u001b[1;33m\u001b[0m\u001b[1;33m\u001b[0m\u001b[0m\n\u001b[0;32m    934\u001b[0m                 \u001b[1;32mif\u001b[0m \u001b[0mgetattr\u001b[0m\u001b[1;33m(\u001b[0m\u001b[0mself\u001b[0m\u001b[1;33m.\u001b[0m\u001b[0m_backend\u001b[0m\u001b[1;33m,\u001b[0m \u001b[1;34m'supports_timeout'\u001b[0m\u001b[1;33m,\u001b[0m \u001b[1;32mFalse\u001b[0m\u001b[1;33m)\u001b[0m\u001b[1;33m:\u001b[0m\u001b[1;33m\u001b[0m\u001b[1;33m\u001b[0m\u001b[0m\n\u001b[1;32m--> 935\u001b[1;33m                     \u001b[0mself\u001b[0m\u001b[1;33m.\u001b[0m\u001b[0m_output\u001b[0m\u001b[1;33m.\u001b[0m\u001b[0mextend\u001b[0m\u001b[1;33m(\u001b[0m\u001b[0mjob\u001b[0m\u001b[1;33m.\u001b[0m\u001b[0mget\u001b[0m\u001b[1;33m(\u001b[0m\u001b[0mtimeout\u001b[0m\u001b[1;33m=\u001b[0m\u001b[0mself\u001b[0m\u001b[1;33m.\u001b[0m\u001b[0mtimeout\u001b[0m\u001b[1;33m)\u001b[0m\u001b[1;33m)\u001b[0m\u001b[1;33m\u001b[0m\u001b[1;33m\u001b[0m\u001b[0m\n\u001b[0m\u001b[0;32m    936\u001b[0m                 \u001b[1;32melse\u001b[0m\u001b[1;33m:\u001b[0m\u001b[1;33m\u001b[0m\u001b[1;33m\u001b[0m\u001b[0m\n\u001b[0;32m    937\u001b[0m                     \u001b[0mself\u001b[0m\u001b[1;33m.\u001b[0m\u001b[0m_output\u001b[0m\u001b[1;33m.\u001b[0m\u001b[0mextend\u001b[0m\u001b[1;33m(\u001b[0m\u001b[0mjob\u001b[0m\u001b[1;33m.\u001b[0m\u001b[0mget\u001b[0m\u001b[1;33m(\u001b[0m\u001b[1;33m)\u001b[0m\u001b[1;33m)\u001b[0m\u001b[1;33m\u001b[0m\u001b[1;33m\u001b[0m\u001b[0m\n",
      "\u001b[1;32m~\\Anaconda3\\lib\\site-packages\\joblib\\_parallel_backends.py\u001b[0m in \u001b[0;36mwrap_future_result\u001b[1;34m(future, timeout)\u001b[0m\n\u001b[0;32m    540\u001b[0m         AsyncResults.get from multiprocessing.\"\"\"\n\u001b[0;32m    541\u001b[0m         \u001b[1;32mtry\u001b[0m\u001b[1;33m:\u001b[0m\u001b[1;33m\u001b[0m\u001b[1;33m\u001b[0m\u001b[0m\n\u001b[1;32m--> 542\u001b[1;33m             \u001b[1;32mreturn\u001b[0m \u001b[0mfuture\u001b[0m\u001b[1;33m.\u001b[0m\u001b[0mresult\u001b[0m\u001b[1;33m(\u001b[0m\u001b[0mtimeout\u001b[0m\u001b[1;33m=\u001b[0m\u001b[0mtimeout\u001b[0m\u001b[1;33m)\u001b[0m\u001b[1;33m\u001b[0m\u001b[1;33m\u001b[0m\u001b[0m\n\u001b[0m\u001b[0;32m    543\u001b[0m         \u001b[1;32mexcept\u001b[0m \u001b[0mCfTimeoutError\u001b[0m \u001b[1;32mas\u001b[0m \u001b[0me\u001b[0m\u001b[1;33m:\u001b[0m\u001b[1;33m\u001b[0m\u001b[1;33m\u001b[0m\u001b[0m\n\u001b[0;32m    544\u001b[0m             \u001b[1;32mraise\u001b[0m \u001b[0mTimeoutError\u001b[0m \u001b[1;32mfrom\u001b[0m \u001b[0me\u001b[0m\u001b[1;33m\u001b[0m\u001b[1;33m\u001b[0m\u001b[0m\n",
      "\u001b[1;32m~\\Anaconda3\\lib\\concurrent\\futures\\_base.py\u001b[0m in \u001b[0;36mresult\u001b[1;34m(self, timeout)\u001b[0m\n\u001b[0;32m    438\u001b[0m                     \u001b[1;32mreturn\u001b[0m \u001b[0mself\u001b[0m\u001b[1;33m.\u001b[0m\u001b[0m__get_result\u001b[0m\u001b[1;33m(\u001b[0m\u001b[1;33m)\u001b[0m\u001b[1;33m\u001b[0m\u001b[1;33m\u001b[0m\u001b[0m\n\u001b[0;32m    439\u001b[0m \u001b[1;33m\u001b[0m\u001b[0m\n\u001b[1;32m--> 440\u001b[1;33m                 \u001b[0mself\u001b[0m\u001b[1;33m.\u001b[0m\u001b[0m_condition\u001b[0m\u001b[1;33m.\u001b[0m\u001b[0mwait\u001b[0m\u001b[1;33m(\u001b[0m\u001b[0mtimeout\u001b[0m\u001b[1;33m)\u001b[0m\u001b[1;33m\u001b[0m\u001b[1;33m\u001b[0m\u001b[0m\n\u001b[0m\u001b[0;32m    441\u001b[0m \u001b[1;33m\u001b[0m\u001b[0m\n\u001b[0;32m    442\u001b[0m                 \u001b[1;32mif\u001b[0m \u001b[0mself\u001b[0m\u001b[1;33m.\u001b[0m\u001b[0m_state\u001b[0m \u001b[1;32min\u001b[0m \u001b[1;33m[\u001b[0m\u001b[0mCANCELLED\u001b[0m\u001b[1;33m,\u001b[0m \u001b[0mCANCELLED_AND_NOTIFIED\u001b[0m\u001b[1;33m]\u001b[0m\u001b[1;33m:\u001b[0m\u001b[1;33m\u001b[0m\u001b[1;33m\u001b[0m\u001b[0m\n",
      "\u001b[1;32m~\\Anaconda3\\lib\\threading.py\u001b[0m in \u001b[0;36mwait\u001b[1;34m(self, timeout)\u001b[0m\n\u001b[0;32m    310\u001b[0m         \u001b[1;32mtry\u001b[0m\u001b[1;33m:\u001b[0m    \u001b[1;31m# restore state no matter what (e.g., KeyboardInterrupt)\u001b[0m\u001b[1;33m\u001b[0m\u001b[1;33m\u001b[0m\u001b[0m\n\u001b[0;32m    311\u001b[0m             \u001b[1;32mif\u001b[0m \u001b[0mtimeout\u001b[0m \u001b[1;32mis\u001b[0m \u001b[1;32mNone\u001b[0m\u001b[1;33m:\u001b[0m\u001b[1;33m\u001b[0m\u001b[1;33m\u001b[0m\u001b[0m\n\u001b[1;32m--> 312\u001b[1;33m                 \u001b[0mwaiter\u001b[0m\u001b[1;33m.\u001b[0m\u001b[0macquire\u001b[0m\u001b[1;33m(\u001b[0m\u001b[1;33m)\u001b[0m\u001b[1;33m\u001b[0m\u001b[1;33m\u001b[0m\u001b[0m\n\u001b[0m\u001b[0;32m    313\u001b[0m                 \u001b[0mgotit\u001b[0m \u001b[1;33m=\u001b[0m \u001b[1;32mTrue\u001b[0m\u001b[1;33m\u001b[0m\u001b[1;33m\u001b[0m\u001b[0m\n\u001b[0;32m    314\u001b[0m             \u001b[1;32melse\u001b[0m\u001b[1;33m:\u001b[0m\u001b[1;33m\u001b[0m\u001b[1;33m\u001b[0m\u001b[0m\n",
      "\u001b[1;31mKeyboardInterrupt\u001b[0m: "
     ]
    }
   ],
   "source": [
    "xgb_pipe_scl = Pipeline([('scl', StandardScaler()),\n",
    "                ('clf', XGBClassifier(scale_pos_weight = scale_pos_weight, random_state = 42)),\n",
    "                        ])\n",
    "\n",
    "xgb_pipe = Pipeline([\n",
    "                ('clf', XGBClassifier(scale_pos_weight = scale_pos_weight, random_state = 42)),\n",
    "                        ])\n",
    "\n",
    "grid_params_xgb = [{\n",
    "    'clf__gamma': [0, 0.1, 0.2, 0.3, 0.4, 0.5], # Minimum loss reduction to make the split\n",
    "    'clf__max_depth': [3, 5, 7, 10], # The maximum level of splits from where the model prunes backwards in terms of info. gain\n",
    "    'clf__n_estimators': [100,300,500,700], # Number of boosting rounds \n",
    "    'clf__subsample': [0.5, 0.6, 0.7, 0.8, 0.9] # Start value - typical values are 0.5-0.9\n",
    "}]\n",
    "\n",
    "skf = StratifiedKFold(n_splits=10)\n",
    "n_jobs = -1 #n_jobs to run faster\n",
    "\n",
    "gs_xgb_scl = RandomizedSearchCV(estimator= xgb_pipe_scl, \n",
    "                           param_distributions=grid_params_xgb, \n",
    "                           scoring = \"recall\",\n",
    "                           cv= skf, n_jobs = n_jobs) \n",
    "\n",
    "gs_xgb = RandomizedSearchCV(estimator= xgb_pipe, \n",
    "                           param_distributions=grid_params_xgb, \n",
    "                           scoring = \"recall\",\n",
    "                           cv= skf, n_jobs=n_jobs) \n",
    "\n",
    "grids = [gs_xgb_scl, gs_xgb]\n",
    "\n",
    "# Dictionary of pipelines and classifier types for reference \n",
    "grid_dict = {0: 'XGB with Scaling', 1: 'XGB'}\n",
    "\n",
    "# Fit the grid search \n",
    "print(\"Training model...\")\n",
    "\n",
    "best_recall = 0.0\n",
    "best_clf = 0\n",
    "best_gs = ''\n",
    "for idx, gs in enumerate(grids):\n",
    "    print('\\nEstimator: %s' % grid_dict[idx])\n",
    "    # Fit grid search\n",
    "    gs.fit(X_train, y_train)\n",
    "    # Best params\n",
    "    print('Best params: %s' % gs.best_params_)\n",
    "    # Best training recall Score\n",
    "    print('Best training recall Score: %.3f' % gs.best_score_)\n",
    "    # Predict on test data with best params\n",
    "    y_pred = gs.predict(X_test)\n",
    "    # Test data recall of model with best params\n",
    "    print('Test set recall score for best params: %.3f ' % recall_score(y_test, y_pred))\n",
    "    # Track best (highest test recall) model\n",
    "    if recall_score(y_test, y_pred) > best_recall:\n",
    "        best_recall = recall_score(y_test, y_pred)\n",
    "        best_gs = gs\n",
    "        best_clf = idx\n",
    "        \n",
    "print('\\nClassifier with best test set recall_score: %s' % grid_dict[best_clf])\n",
    "\n",
    "print('classifiers trained!')"
   ]
  },
  {
   "cell_type": "markdown",
   "metadata": {},
   "source": [
    "XGB con mejores hiperparámetros:"
   ]
  },
  {
   "cell_type": "code",
   "execution_count": null,
   "metadata": {},
   "outputs": [],
   "source": [
    "xgb = XGBClassifier(scale_pos_weight = scale_pos_weight, random_state = 42)\n",
    "\n",
    "xgb.fit(X, y)\n",
    "\n",
    "y_pred = xgb.predict(X_test)\n",
    "f1_score_macro = f1_score(y_test, y_pred, average='macro')\n",
    "f1_score_micro = f1_score(y_test, y_pred, average='micro')\n",
    "\n",
    "print(f'The recall is: {recall_score(y_test, y_pred)}')\n",
    "print(f'The f1 micro score is: {f1_score_micro}')\n",
    "print(f'The f1 macro score is: {f1_score_macro}')"
   ]
  },
  {
   "cell_type": "code",
   "execution_count": null,
   "metadata": {},
   "outputs": [],
   "source": [
    "#Veamos la matriz de confusión\n",
    "cf_matrix = confusion_matrix(y_test, y_pred)\n",
    "ax = sns.heatmap(cf_matrix, annot=True, cmap='Blues')\n",
    "\n",
    "ax.set_title('Matriz de confusión para modelo Xgboost');\n",
    "ax.set_xlabel('\\nPredicted Values')\n",
    "ax.set_ylabel('Actual Values ');"
   ]
  },
  {
   "cell_type": "markdown",
   "metadata": {},
   "source": [
    "#### 4. SVM - Support Vector Machine"
   ]
  },
  {
   "cell_type": "markdown",
   "metadata": {},
   "source": [
    "El algoritmo SVM tiene como objetivo maximizar el \"márgen máximo\" de separación del hiperplano que separa las clases. En otras palabras, el objetivo del modelo es clasificar de forma efectiva los datos para que el modelo pueda generalizar mejor. \n",
    "\n",
    "\n",
    "Cuanto mayor sea la distancia entre los support vectors de los diferentes grupos, mayor será el márgen máximo de separación, y menor el error en la clasificación. Los modelos SVM tienen la opción de incluir kernels, lo que es útil cuando las clases no se pueden separar linearlmente.  \n",
    "\n",
    "La data para SVM tiene que estar estandarizada, para poder diferenciar de manera eficiente entre las clases y aplicar correctamente las medidas de distancia."
   ]
  },
  {
   "cell_type": "code",
   "execution_count": 6,
   "metadata": {},
   "outputs": [
    {
     "name": "stdout",
     "output_type": "stream",
     "text": [
      "Training model...\n"
     ]
    }
   ],
   "source": [
    "svm_pipe_scl = Pipeline([('scl', StandardScaler()),\n",
    "                ('clf', SVC(random_state = 42, class_weight = 'balanced')),\n",
    "                        ])\n",
    "\n",
    "param_range_fl = [1.0, 0.7, 0.5, 0.3, 0.1, 0.01]\n",
    "\n",
    "grid_params_svm = [{\n",
    "        'clf__kernel': ['linear', 'rbf', 'poly', 'sigmoid'], \n",
    "        'clf__C': param_range_fl\n",
    "        }]\n",
    "\n",
    "\n",
    "skf = StratifiedKFold(n_splits=10)\n",
    "n_jobs = -1 #n_jobs to run faster\n",
    "\n",
    "gs_svm_scl = RandomizedSearchCV(estimator= svm_pipe_scl, \n",
    "                           param_distributions=grid_params_svm, \n",
    "                           scoring = \"recall\",\n",
    "                           cv= skf, n_jobs = n_jobs) \n",
    "\n",
    "# Fit the grid search \n",
    "print(\"Training model...\")\n",
    "\n",
    "gs_svm_scl.fit(X_train, y_train)\n",
    "\n",
    "print('Best params: %s' % gs_svm_scl.best_params_)\n",
    "# Best training recall Score\n",
    "print('Best training recall Score: %.3f' % gs_svm_scl.best_score_)\n",
    "# Predict on test data with best params\n",
    "y_pred = gs_svm_scl.predict(X_test)\n",
    "# Test data recall of model with best params\n",
    "print('Test set recall score for best params: %.3f ' % recall_score(y_test, y_pred))\n",
    "\n",
    "print('classifier trained!')"
   ]
  },
  {
   "cell_type": "markdown",
   "metadata": {},
   "source": [
    "#### 5. Logistic Regression"
   ]
  },
  {
   "cell_type": "code",
   "execution_count": null,
   "metadata": {},
   "outputs": [],
   "source": [
    "logreg_pipe_scl = Pipeline([('scl', StandardScaler()),\n",
    "                ('clf', LogisticRegression(random_state = 42, class_weight = 'balanced')),\n",
    "                        ])\n",
    "\n",
    "param_range_fl = [1.0, 0.7, 0.5, 0.3, 0.1, 0.01]\n",
    "\n",
    "grid_params_logreg = [{\n",
    "        'clf__kernel': ['linear', 'rbf', 'poly', 'sigmoid'], \n",
    "        'clf__C': param_range_fl\n",
    "        }]\n",
    "\n",
    "\n",
    "skf = StratifiedKFold(n_splits=10)\n",
    "n_jobs = -1 #n_jobs to run faster\n",
    "\n",
    "gs_logreg_scl = RandomizedSearchCV(estimator= logreg_pipe_scl, \n",
    "                           param_distributions=grid_params_logreg, \n",
    "                           scoring = \"recall\",\n",
    "                           cv= skf, n_jobs = n_jobs) \n",
    "\n",
    "# Fit the grid search \n",
    "print(\"Training model...\")\n",
    "\n",
    "gs_logreg_scl.fit(X_train, y_train)\n",
    "\n",
    "print('Best params: %s' % gs_logreg_scl.best_params_)\n",
    "# Best training recall Score\n",
    "print('Best training recall Score: %.3f' % gs_logreg_scl.best_score_)\n",
    "# Predict on test data with best params\n",
    "y_pred = gs_logreg_scl.predict(X_test)\n",
    "# Test data recall of model with best params\n",
    "print('Test set recall score for best params: %.3f ' % recall_score(y_test, y_pred))\n",
    "\n",
    "print('classifiers trained!')"
   ]
  }
 ],
 "metadata": {
  "interpreter": {
   "hash": "d495b75e585fc1aacde80282644c711a62d5534a7b8eccc8e128850bb76d6ea5"
  },
  "kernelspec": {
   "display_name": "Python 3.9.7 ('base')",
   "language": "python",
   "name": "python3"
  },
  "language_info": {
   "codemirror_mode": {
    "name": "ipython",
    "version": 3
   },
   "file_extension": ".py",
   "mimetype": "text/x-python",
   "name": "python",
   "nbconvert_exporter": "python",
   "pygments_lexer": "ipython3",
   "version": "3.9.7"
  },
  "orig_nbformat": 4
 },
 "nbformat": 4,
 "nbformat_minor": 2
}
